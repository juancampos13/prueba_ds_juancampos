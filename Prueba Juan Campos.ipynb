{
 "cells": [
  {
   "cell_type": "code",
   "execution_count": 1,
   "id": "ef23e14d",
   "metadata": {},
   "outputs": [],
   "source": [
    "import pandas as pd\n",
    "import numpy as np\n",
    "\n",
    "from sklearn.linear_model import LogisticRegression\n",
    "from sklearn import tree\n",
    "from sklearn.model_selection import train_test_split\n",
    "from sklearn.neural_network import MLPClassifier\n",
    "from sklearn.ensemble import ExtraTreesClassifier\n",
    "\n",
    "from sklearn.metrics import confusion_matrix\n",
    "from sklearn.ensemble import RandomForestClassifier\n",
    "from sklearn.naive_bayes import GaussianNB\n",
    "\n",
    "from sklearn.compose import ColumnTransformer\n",
    "from sklearn.pipeline import Pipeline\n",
    "from sklearn.impute import SimpleImputer\n",
    "from sklearn.preprocessing import StandardScaler,OrdinalEncoder, KBinsDiscretizer\n",
    "\n",
    "from sklearn.model_selection import cross_val_score\n",
    "from sklearn.feature_selection import SelectFromModel\n",
    "from collections import Counter\n",
    "\n",
    "\n",
    "from sklearn.utils import resample\n",
    "from imblearn.over_sampling import SMOTE\n",
    "\n",
    "np.random.seed(0)\n",
    "import matplotlib.pyplot as plt\n",
    "\n",
    "import seaborn as sns; sns.set_theme()"
   ]
  },
  {
   "cell_type": "code",
   "execution_count": 2,
   "id": "f4b15670",
   "metadata": {},
   "outputs": [],
   "source": [
    "def display_summary(true,pred):\n",
    "    tn, fp, fn, tp = confusion_matrix(true,pred).ravel()\n",
    "    precision = tp/(tp+fp)\n",
    "    sensitivity = tp/(tp+fn)\n",
    "    balanced_accuracy = 1./2*(1.*tp/(tp+fn)+1.*tn/(tn+fp))\n",
    "    Fscore = 2.*(precision*sensitivity)/(precision+sensitivity)\n",
    "    print('Matriz de confusión')\n",
    "    print(np.array([[tp,fp],[fn,tn]]))\n",
    "    print('Sensitividad %f',1.*tp/(tp+fn))\n",
    "    print('Especificidad is %f',1.*tn/(tn+fp))\n",
    "    print('Precisión %f',1.*(tp+tn)/(tp+tn+fp+fn))\n",
    "    print('Precisión balanceada %',1./2*(1.*tp/(tp+fn)+1.*tn/(tn+fp)))\n",
    "    print('F-score %', Fscore)\n",
    "    return Fscore, balanced_accuracy"
   ]
  },
  {
   "cell_type": "markdown",
   "id": "17947cc8",
   "metadata": {},
   "source": [
    "## Tabla de Contenidos\n",
    "\n",
    "* [Análsis del dataset](#Analysis)\n",
    "* [Implementación del modelo](#Model)\n",
    "    * [Aproach 1](#model1)\n",
    "    * [Aproach 2](#model2)\n",
    "    * [Aproach 3](#model3)\n",
    "    * [Aproach 4](#model4)\n",
    "* [Resultados](#results)\n",
    "* [Referencias](#references)"
   ]
  },
  {
   "cell_type": "markdown",
   "id": "9c911370",
   "metadata": {},
   "source": [
    "<a id = 'Analysis'></a>\n",
    "# <font color = \"darkblue\">Análsis del dataset</font>\n",
    "\n",
    "En esta sección del notebook se busca entender la información que se encuentra en el dataset; cómo está consituido, que variables contiene, que variables son categoricas y cuáles son númericas, etc. Para se ello se realizan las siguientes procedimientos:\n",
    "- Análisis estadisticos\n",
    "- Distribuciones de variables continúas\n",
    "- Correlaciones de variables\n",
    "- Características de trasaccciones fradulentas y características de personas que comenten fraude\n",
    "\n",
    "\n",
    "Como primer paso se carga el dataset y se analiza las variables que contiene:"
   ]
  },
  {
   "cell_type": "code",
   "execution_count": 3,
   "id": "b39dcbaf",
   "metadata": {
    "scrolled": true
   },
   "outputs": [
    {
     "data": {
      "text/html": [
       "<div>\n",
       "<style scoped>\n",
       "    .dataframe tbody tr th:only-of-type {\n",
       "        vertical-align: middle;\n",
       "    }\n",
       "\n",
       "    .dataframe tbody tr th {\n",
       "        vertical-align: top;\n",
       "    }\n",
       "\n",
       "    .dataframe thead th {\n",
       "        text-align: right;\n",
       "    }\n",
       "</style>\n",
       "<table border=\"1\" class=\"dataframe\">\n",
       "  <thead>\n",
       "    <tr style=\"text-align: right;\">\n",
       "      <th></th>\n",
       "      <th>ID_USER</th>\n",
       "      <th>genero</th>\n",
       "      <th>monto</th>\n",
       "      <th>fecha</th>\n",
       "      <th>hora</th>\n",
       "      <th>establecimiento</th>\n",
       "      <th>ciudad</th>\n",
       "      <th>tipo_tc</th>\n",
       "      <th>linea_tc</th>\n",
       "      <th>interes_tc</th>\n",
       "      <th>status_txn</th>\n",
       "      <th>is_prime</th>\n",
       "      <th>dcto</th>\n",
       "      <th>cashback</th>\n",
       "      <th>fraude</th>\n",
       "      <th>model</th>\n",
       "      <th>device_score</th>\n",
       "      <th>os</th>\n",
       "    </tr>\n",
       "  </thead>\n",
       "  <tbody>\n",
       "    <tr>\n",
       "      <th>0</th>\n",
       "      <td>0</td>\n",
       "      <td>F</td>\n",
       "      <td>608.345634</td>\n",
       "      <td>2020-01-21</td>\n",
       "      <td>20</td>\n",
       "      <td>Super</td>\n",
       "      <td>Merida</td>\n",
       "      <td>Física</td>\n",
       "      <td>71000</td>\n",
       "      <td>51</td>\n",
       "      <td>Aceptada</td>\n",
       "      <td>False</td>\n",
       "      <td>60.834563</td>\n",
       "      <td>5.475111</td>\n",
       "      <td>False</td>\n",
       "      <td>2020</td>\n",
       "      <td>3</td>\n",
       "      <td>ANDROID</td>\n",
       "    </tr>\n",
       "    <tr>\n",
       "      <th>1</th>\n",
       "      <td>0</td>\n",
       "      <td>F</td>\n",
       "      <td>88.719243</td>\n",
       "      <td>2020-01-15</td>\n",
       "      <td>7</td>\n",
       "      <td>NaN</td>\n",
       "      <td>Merida</td>\n",
       "      <td>Virtual</td>\n",
       "      <td>71000</td>\n",
       "      <td>51</td>\n",
       "      <td>Aceptada</td>\n",
       "      <td>False</td>\n",
       "      <td>0.000000</td>\n",
       "      <td>1.774385</td>\n",
       "      <td>False</td>\n",
       "      <td>2020</td>\n",
       "      <td>1</td>\n",
       "      <td>ANDROID</td>\n",
       "    </tr>\n",
       "    <tr>\n",
       "      <th>2</th>\n",
       "      <td>1</td>\n",
       "      <td>F</td>\n",
       "      <td>790.037653</td>\n",
       "      <td>2020-01-17</td>\n",
       "      <td>11</td>\n",
       "      <td>NaN</td>\n",
       "      <td>Guadalajara</td>\n",
       "      <td>Virtual</td>\n",
       "      <td>94000</td>\n",
       "      <td>56</td>\n",
       "      <td>En proceso</td>\n",
       "      <td>False</td>\n",
       "      <td>0.000000</td>\n",
       "      <td>15.800753</td>\n",
       "      <td>False</td>\n",
       "      <td>2020</td>\n",
       "      <td>1</td>\n",
       "      <td>.</td>\n",
       "    </tr>\n",
       "    <tr>\n",
       "      <th>3</th>\n",
       "      <td>1</td>\n",
       "      <td>F</td>\n",
       "      <td>767.005387</td>\n",
       "      <td>2020-01-05</td>\n",
       "      <td>11</td>\n",
       "      <td>MPago</td>\n",
       "      <td>Guadalajara</td>\n",
       "      <td>Física</td>\n",
       "      <td>94000</td>\n",
       "      <td>56</td>\n",
       "      <td>Aceptada</td>\n",
       "      <td>False</td>\n",
       "      <td>0.000000</td>\n",
       "      <td>7.670054</td>\n",
       "      <td>False</td>\n",
       "      <td>2020</td>\n",
       "      <td>3</td>\n",
       "      <td>WEB</td>\n",
       "    </tr>\n",
       "    <tr>\n",
       "      <th>4</th>\n",
       "      <td>1</td>\n",
       "      <td>F</td>\n",
       "      <td>254.171053</td>\n",
       "      <td>2020-01-30</td>\n",
       "      <td>10</td>\n",
       "      <td>NaN</td>\n",
       "      <td>Guadalajara</td>\n",
       "      <td>Física</td>\n",
       "      <td>94000</td>\n",
       "      <td>56</td>\n",
       "      <td>Aceptada</td>\n",
       "      <td>False</td>\n",
       "      <td>0.000000</td>\n",
       "      <td>2.541711</td>\n",
       "      <td>False</td>\n",
       "      <td>2020</td>\n",
       "      <td>3</td>\n",
       "      <td>%%</td>\n",
       "    </tr>\n",
       "    <tr>\n",
       "      <th>...</th>\n",
       "      <td>...</td>\n",
       "      <td>...</td>\n",
       "      <td>...</td>\n",
       "      <td>...</td>\n",
       "      <td>...</td>\n",
       "      <td>...</td>\n",
       "      <td>...</td>\n",
       "      <td>...</td>\n",
       "      <td>...</td>\n",
       "      <td>...</td>\n",
       "      <td>...</td>\n",
       "      <td>...</td>\n",
       "      <td>...</td>\n",
       "      <td>...</td>\n",
       "      <td>...</td>\n",
       "      <td>...</td>\n",
       "      <td>...</td>\n",
       "      <td>...</td>\n",
       "    </tr>\n",
       "    <tr>\n",
       "      <th>26970</th>\n",
       "      <td>3999</td>\n",
       "      <td>M</td>\n",
       "      <td>746.192089</td>\n",
       "      <td>2020-01-08</td>\n",
       "      <td>13</td>\n",
       "      <td>NaN</td>\n",
       "      <td>Toluca</td>\n",
       "      <td>Física</td>\n",
       "      <td>40000</td>\n",
       "      <td>56</td>\n",
       "      <td>Aceptada</td>\n",
       "      <td>False</td>\n",
       "      <td>0.000000</td>\n",
       "      <td>7.461921</td>\n",
       "      <td>False</td>\n",
       "      <td>2020</td>\n",
       "      <td>2</td>\n",
       "      <td>ANDROID</td>\n",
       "    </tr>\n",
       "    <tr>\n",
       "      <th>26971</th>\n",
       "      <td>3999</td>\n",
       "      <td>M</td>\n",
       "      <td>941.804966</td>\n",
       "      <td>2020-01-14</td>\n",
       "      <td>15</td>\n",
       "      <td>NaN</td>\n",
       "      <td>Toluca</td>\n",
       "      <td>Física</td>\n",
       "      <td>40000</td>\n",
       "      <td>56</td>\n",
       "      <td>Aceptada</td>\n",
       "      <td>False</td>\n",
       "      <td>0.000000</td>\n",
       "      <td>9.418050</td>\n",
       "      <td>False</td>\n",
       "      <td>2020</td>\n",
       "      <td>2</td>\n",
       "      <td>WEB</td>\n",
       "    </tr>\n",
       "    <tr>\n",
       "      <th>26972</th>\n",
       "      <td>3999</td>\n",
       "      <td>M</td>\n",
       "      <td>251.189885</td>\n",
       "      <td>2020-01-16</td>\n",
       "      <td>11</td>\n",
       "      <td>NaN</td>\n",
       "      <td>Toluca</td>\n",
       "      <td>Virtual</td>\n",
       "      <td>40000</td>\n",
       "      <td>56</td>\n",
       "      <td>Aceptada</td>\n",
       "      <td>False</td>\n",
       "      <td>0.000000</td>\n",
       "      <td>5.023798</td>\n",
       "      <td>False</td>\n",
       "      <td>2020</td>\n",
       "      <td>2</td>\n",
       "      <td>WEB</td>\n",
       "    </tr>\n",
       "    <tr>\n",
       "      <th>26973</th>\n",
       "      <td>3999</td>\n",
       "      <td>M</td>\n",
       "      <td>24.182665</td>\n",
       "      <td>2020-01-13</td>\n",
       "      <td>17</td>\n",
       "      <td>NaN</td>\n",
       "      <td>Toluca</td>\n",
       "      <td>Física</td>\n",
       "      <td>40000</td>\n",
       "      <td>56</td>\n",
       "      <td>Aceptada</td>\n",
       "      <td>False</td>\n",
       "      <td>2.418266</td>\n",
       "      <td>0.217644</td>\n",
       "      <td>False</td>\n",
       "      <td>2020</td>\n",
       "      <td>5</td>\n",
       "      <td>.</td>\n",
       "    </tr>\n",
       "    <tr>\n",
       "      <th>26974</th>\n",
       "      <td>3999</td>\n",
       "      <td>M</td>\n",
       "      <td>517.209272</td>\n",
       "      <td>2020-01-03</td>\n",
       "      <td>20</td>\n",
       "      <td>MPago</td>\n",
       "      <td>Toluca</td>\n",
       "      <td>Física</td>\n",
       "      <td>40000</td>\n",
       "      <td>56</td>\n",
       "      <td>En proceso</td>\n",
       "      <td>False</td>\n",
       "      <td>0.000000</td>\n",
       "      <td>5.172093</td>\n",
       "      <td>False</td>\n",
       "      <td>2020</td>\n",
       "      <td>5</td>\n",
       "      <td>ANDROID</td>\n",
       "    </tr>\n",
       "  </tbody>\n",
       "</table>\n",
       "<p>26975 rows × 18 columns</p>\n",
       "</div>"
      ],
      "text/plain": [
       "       ID_USER genero       monto       fecha  hora establecimiento  \\\n",
       "0            0      F  608.345634  2020-01-21    20           Super   \n",
       "1            0      F   88.719243  2020-01-15     7             NaN   \n",
       "2            1      F  790.037653  2020-01-17    11             NaN   \n",
       "3            1      F  767.005387  2020-01-05    11           MPago   \n",
       "4            1      F  254.171053  2020-01-30    10             NaN   \n",
       "...        ...    ...         ...         ...   ...             ...   \n",
       "26970     3999      M  746.192089  2020-01-08    13             NaN   \n",
       "26971     3999      M  941.804966  2020-01-14    15             NaN   \n",
       "26972     3999      M  251.189885  2020-01-16    11             NaN   \n",
       "26973     3999      M   24.182665  2020-01-13    17             NaN   \n",
       "26974     3999      M  517.209272  2020-01-03    20           MPago   \n",
       "\n",
       "            ciudad  tipo_tc  linea_tc  interes_tc  status_txn  is_prime  \\\n",
       "0           Merida   Física     71000          51    Aceptada     False   \n",
       "1           Merida  Virtual     71000          51    Aceptada     False   \n",
       "2      Guadalajara  Virtual     94000          56  En proceso     False   \n",
       "3      Guadalajara   Física     94000          56    Aceptada     False   \n",
       "4      Guadalajara   Física     94000          56    Aceptada     False   \n",
       "...            ...      ...       ...         ...         ...       ...   \n",
       "26970       Toluca   Física     40000          56    Aceptada     False   \n",
       "26971       Toluca   Física     40000          56    Aceptada     False   \n",
       "26972       Toluca  Virtual     40000          56    Aceptada     False   \n",
       "26973       Toluca   Física     40000          56    Aceptada     False   \n",
       "26974       Toluca   Física     40000          56  En proceso     False   \n",
       "\n",
       "            dcto   cashback  fraude  model  device_score       os  \n",
       "0      60.834563   5.475111   False   2020             3  ANDROID  \n",
       "1       0.000000   1.774385   False   2020             1  ANDROID  \n",
       "2       0.000000  15.800753   False   2020             1        .  \n",
       "3       0.000000   7.670054   False   2020             3      WEB  \n",
       "4       0.000000   2.541711   False   2020             3       %%  \n",
       "...          ...        ...     ...    ...           ...      ...  \n",
       "26970   0.000000   7.461921   False   2020             2  ANDROID  \n",
       "26971   0.000000   9.418050   False   2020             2      WEB  \n",
       "26972   0.000000   5.023798   False   2020             2      WEB  \n",
       "26973   2.418266   0.217644   False   2020             5        .  \n",
       "26974   0.000000   5.172093   False   2020             5  ANDROID  \n",
       "\n",
       "[26975 rows x 18 columns]"
      ]
     },
     "execution_count": 3,
     "metadata": {},
     "output_type": "execute_result"
    }
   ],
   "source": [
    "df = pd.read_csv('ds_challenge_2021.csv')\n",
    "df['dispositivo']=df['dispositivo'].apply(lambda x:eval(x))\n",
    "df = pd.concat([df, pd.json_normalize(df[\"dispositivo\"])], axis=1)\n",
    "df.drop(['dispositivo'], axis=1, inplace = True)\n",
    "df"
   ]
  },
  {
   "cell_type": "code",
   "execution_count": 4,
   "id": "25ccbe0c",
   "metadata": {
    "scrolled": true
   },
   "outputs": [
    {
     "data": {
      "text/plain": [
       "ID_USER              int64\n",
       "genero              object\n",
       "monto              float64\n",
       "fecha               object\n",
       "hora                 int64\n",
       "establecimiento     object\n",
       "ciudad              object\n",
       "tipo_tc             object\n",
       "linea_tc             int64\n",
       "interes_tc           int64\n",
       "status_txn          object\n",
       "is_prime              bool\n",
       "dcto               float64\n",
       "cashback           float64\n",
       "fraude                bool\n",
       "model                int64\n",
       "device_score         int64\n",
       "os                  object\n",
       "dtype: object"
      ]
     },
     "execution_count": 4,
     "metadata": {},
     "output_type": "execute_result"
    }
   ],
   "source": [
    "df.dtypes"
   ]
  },
  {
   "cell_type": "markdown",
   "id": "5e831233",
   "metadata": {},
   "source": [
    "Como el objetivo de esta prueba es poder detectar las transacciones fraudulentas, es importante entender cual va a ser la variable y a clasificar, para ello miramos cuanto esto es su proporción sobre el total;"
   ]
  },
  {
   "cell_type": "code",
   "execution_count": 5,
   "id": "65db5dae",
   "metadata": {},
   "outputs": [
    {
     "name": "stdout",
     "output_type": "stream",
     "text": [
      "Porcentaje de transacciones fraudulentas del total: 3.003%\n"
     ]
    }
   ],
   "source": [
    "df_fraude = pd.DataFrame(df[df['fraude']==True],columns = df.columns) #Dataframe de trasancciones que son fraudulentas\n",
    "df_noFraude = pd.DataFrame(df[df['fraude']==False],columns = df.columns) #Dataframe de trasancciones que no son fraudulentas\n",
    "prop = len(df_fraude)/(len(df_noFraude)+len(df_fraude))*100 #Es un buen indicador para saber si los datos están balanceados\n",
    "print(\"Porcentaje de transacciones fraudulentas del total: %.3f\" % prop + \"%\")\n"
   ]
  },
  {
   "cell_type": "code",
   "execution_count": 6,
   "id": "b4b3fc48",
   "metadata": {},
   "outputs": [
    {
     "data": {
      "text/html": [
       "<div>\n",
       "<style scoped>\n",
       "    .dataframe tbody tr th:only-of-type {\n",
       "        vertical-align: middle;\n",
       "    }\n",
       "\n",
       "    .dataframe tbody tr th {\n",
       "        vertical-align: top;\n",
       "    }\n",
       "\n",
       "    .dataframe thead th {\n",
       "        text-align: right;\n",
       "    }\n",
       "</style>\n",
       "<table border=\"1\" class=\"dataframe\">\n",
       "  <thead>\n",
       "    <tr style=\"text-align: right;\">\n",
       "      <th></th>\n",
       "      <th>monto</th>\n",
       "      <th>hora</th>\n",
       "      <th>linea_tc</th>\n",
       "      <th>interes_tc</th>\n",
       "      <th>dcto</th>\n",
       "      <th>cashback</th>\n",
       "      <th>model</th>\n",
       "      <th>device_score</th>\n",
       "    </tr>\n",
       "  </thead>\n",
       "  <tbody>\n",
       "    <tr>\n",
       "      <th>count</th>\n",
       "      <td>26975.000000</td>\n",
       "      <td>26975.000000</td>\n",
       "      <td>26975.000000</td>\n",
       "      <td>26975.000000</td>\n",
       "      <td>26975.000000</td>\n",
       "      <td>26975.000000</td>\n",
       "      <td>26975.0</td>\n",
       "      <td>26975.000000</td>\n",
       "    </tr>\n",
       "    <tr>\n",
       "      <th>mean</th>\n",
       "      <td>499.069493</td>\n",
       "      <td>11.987618</td>\n",
       "      <td>62476.811863</td>\n",
       "      <td>48.224875</td>\n",
       "      <td>17.466134</td>\n",
       "      <td>6.261186</td>\n",
       "      <td>2020.0</td>\n",
       "      <td>3.002595</td>\n",
       "    </tr>\n",
       "    <tr>\n",
       "      <th>std</th>\n",
       "      <td>289.309518</td>\n",
       "      <td>6.642565</td>\n",
       "      <td>21886.892902</td>\n",
       "      <td>9.587256</td>\n",
       "      <td>34.334566</td>\n",
       "      <td>4.458440</td>\n",
       "      <td>0.0</td>\n",
       "      <td>1.417432</td>\n",
       "    </tr>\n",
       "    <tr>\n",
       "      <th>min</th>\n",
       "      <td>0.017303</td>\n",
       "      <td>1.000000</td>\n",
       "      <td>25000.000000</td>\n",
       "      <td>32.000000</td>\n",
       "      <td>0.000000</td>\n",
       "      <td>0.000138</td>\n",
       "      <td>2020.0</td>\n",
       "      <td>1.000000</td>\n",
       "    </tr>\n",
       "    <tr>\n",
       "      <th>25%</th>\n",
       "      <td>246.521227</td>\n",
       "      <td>6.000000</td>\n",
       "      <td>44000.000000</td>\n",
       "      <td>40.000000</td>\n",
       "      <td>0.000000</td>\n",
       "      <td>2.791740</td>\n",
       "      <td>2020.0</td>\n",
       "      <td>2.000000</td>\n",
       "    </tr>\n",
       "    <tr>\n",
       "      <th>50%</th>\n",
       "      <td>500.501022</td>\n",
       "      <td>12.000000</td>\n",
       "      <td>62000.000000</td>\n",
       "      <td>48.000000</td>\n",
       "      <td>0.000000</td>\n",
       "      <td>5.636711</td>\n",
       "      <td>2020.0</td>\n",
       "      <td>3.000000</td>\n",
       "    </tr>\n",
       "    <tr>\n",
       "      <th>75%</th>\n",
       "      <td>749.598192</td>\n",
       "      <td>18.000000</td>\n",
       "      <td>82000.000000</td>\n",
       "      <td>57.000000</td>\n",
       "      <td>18.770710</td>\n",
       "      <td>8.531604</td>\n",
       "      <td>2020.0</td>\n",
       "      <td>4.000000</td>\n",
       "    </tr>\n",
       "    <tr>\n",
       "      <th>max</th>\n",
       "      <td>999.917764</td>\n",
       "      <td>23.000000</td>\n",
       "      <td>99000.000000</td>\n",
       "      <td>64.000000</td>\n",
       "      <td>199.356251</td>\n",
       "      <td>19.991582</td>\n",
       "      <td>2020.0</td>\n",
       "      <td>5.000000</td>\n",
       "    </tr>\n",
       "  </tbody>\n",
       "</table>\n",
       "</div>"
      ],
      "text/plain": [
       "              monto          hora      linea_tc    interes_tc          dcto  \\\n",
       "count  26975.000000  26975.000000  26975.000000  26975.000000  26975.000000   \n",
       "mean     499.069493     11.987618  62476.811863     48.224875     17.466134   \n",
       "std      289.309518      6.642565  21886.892902      9.587256     34.334566   \n",
       "min        0.017303      1.000000  25000.000000     32.000000      0.000000   \n",
       "25%      246.521227      6.000000  44000.000000     40.000000      0.000000   \n",
       "50%      500.501022     12.000000  62000.000000     48.000000      0.000000   \n",
       "75%      749.598192     18.000000  82000.000000     57.000000     18.770710   \n",
       "max      999.917764     23.000000  99000.000000     64.000000    199.356251   \n",
       "\n",
       "           cashback    model  device_score  \n",
       "count  26975.000000  26975.0  26975.000000  \n",
       "mean       6.261186   2020.0      3.002595  \n",
       "std        4.458440      0.0      1.417432  \n",
       "min        0.000138   2020.0      1.000000  \n",
       "25%        2.791740   2020.0      2.000000  \n",
       "50%        5.636711   2020.0      3.000000  \n",
       "75%        8.531604   2020.0      4.000000  \n",
       "max       19.991582   2020.0      5.000000  "
      ]
     },
     "execution_count": 6,
     "metadata": {},
     "output_type": "execute_result"
    }
   ],
   "source": [
    "df[df.columns[1:]].describe()"
   ]
  },
  {
   "cell_type": "code",
   "execution_count": 7,
   "id": "059518de",
   "metadata": {},
   "outputs": [
    {
     "data": {
      "text/plain": [
       "<AxesSubplot:>"
      ]
     },
     "execution_count": 7,
     "metadata": {},
     "output_type": "execute_result"
    },
    {
     "data": {
      "image/png": "[encoded data removed]",
      "text/plain": [
       "<Figure size 504x360 with 2 Axes>"
      ]
     },
     "metadata": {},
     "output_type": "display_data"
    }
   ],
   "source": [
    "corr = df.corr()\n",
    "mask = np.triu(np.ones_like(corr, dtype=bool))\n",
    "f, ax = plt.subplots(figsize=(7, 5))\n",
    "cmap = sns.diverging_palette(230, 20, as_cmap=True)\n",
    "sns.heatmap(corr, mask=mask, cmap=cmap, vmax=.3, center=0,\n",
    "            square=True, linewidths=.5, cbar_kws={\"shrink\": .5})"
   ]
  },
  {
   "cell_type": "markdown",
   "id": "09351844",
   "metadata": {},
   "source": [
    "### <font color = \"darkblue\">Variables númericas</font>"
   ]
  },
  {
   "cell_type": "code",
   "execution_count": 8,
   "id": "511cc91a",
   "metadata": {
    "scrolled": false
   },
   "outputs": [
    {
     "data": {
      "text/plain": [
       "<AxesSubplot:xlabel='hora', ylabel='Density'>"
      ]
     },
     "execution_count": 8,
     "metadata": {},
     "output_type": "execute_result"
    },
    {
     "data": {
      "image/png": "[encoded data removed]",
      "text/plain": [
       "<Figure size 864x792 with 6 Axes>"
      ]
     },
     "metadata": {},
     "output_type": "display_data"
    }
   ],
   "source": [
    "f, axes = plt.subplots(nrows=3, ncols=2,figsize=(12,11))\n",
    "\n",
    "sns.histplot(data=df, x=\"monto\", hue=\"fraude\", stat=\"density\", common_norm=False, ax = axes[0][0])\n",
    "sns.histplot(data=df, x=\"cashback\", hue=\"fraude\", stat=\"density\", common_norm=False, ax = axes[0][1])\n",
    "sns.histplot(data=df, x=\"dcto\", hue=\"fraude\", stat=\"density\", common_norm=False, ax = axes[1][0])\n",
    "sns.histplot(data=df, x=\"linea_tc\", hue=\"fraude\", stat=\"density\", common_norm=False, ax = axes[1][1])\n",
    "sns.histplot(data=df, x=\"interes_tc\", hue=\"fraude\", stat=\"density\", common_norm=False, ax = axes[2][0])\n",
    "sns.histplot(data=df, x=\"hora\", hue=\"fraude\", stat=\"density\", common_norm=False, ax = axes[2][1])"
   ]
  },
  {
   "cell_type": "markdown",
   "id": "32928a0d",
   "metadata": {},
   "source": [
    "### <font color = \"darkblue\">Variables categóricas</font>"
   ]
  },
  {
   "cell_type": "code",
   "execution_count": 9,
   "id": "b8218927",
   "metadata": {
    "scrolled": false
   },
   "outputs": [
    {
     "data": {
      "text/plain": [
       "<AxesSubplot:xlabel='device_score', ylabel='proportion'>"
      ]
     },
     "execution_count": 9,
     "metadata": {},
     "output_type": "execute_result"
    },
    {
     "data": {
      "image/png": "[encoded data removed]",
      "text/plain": [
       "<Figure size 864x792 with 6 Axes>"
      ]
     },
     "metadata": {},
     "output_type": "display_data"
    }
   ],
   "source": [
    "f, axes = plt.subplots(nrows=3, ncols=2,figsize=(12,11))\n",
    "\n",
    "(df[\"os\"].groupby(df[\"fraude\"]).value_counts(normalize=True).rename(\"proportion\")\n",
    " .reset_index().pipe((sns.barplot, \"data\"), x=\"os\", y=\"proportion\", hue=\"fraude\",ax = axes[0,0]))\n",
    "(df[\"establecimiento\"].groupby(df[\"fraude\"]).value_counts(normalize=True).rename(\"proportion\")\n",
    " .reset_index().pipe((sns.barplot, \"data\"), x=\"establecimiento\", y=\"proportion\", hue=\"fraude\",ax = axes[0,1]))\n",
    "(df[\"ciudad\"].groupby(df[\"fraude\"]).value_counts(normalize=True).rename(\"proportion\")\n",
    " .reset_index().pipe((sns.barplot, \"data\"), x=\"ciudad\", y=\"proportion\", hue=\"fraude\",ax = axes[1,0]))\n",
    "(df[\"status_txn\"].groupby(df[\"fraude\"]).value_counts(normalize=True).rename(\"proportion\")\n",
    " .reset_index().pipe((sns.barplot, \"data\"), x=\"status_txn\", y=\"proportion\", hue=\"fraude\",ax = axes[1,1]))\n",
    "(df[\"is_prime\"].groupby(df[\"fraude\"]).value_counts(normalize=True).rename(\"proportion\")\n",
    " .reset_index().pipe((sns.barplot, \"data\"), x=\"is_prime\", y=\"proportion\", hue=\"fraude\",ax = axes[2,0]))\n",
    "(df[\"device_score\"].groupby(df[\"fraude\"]).value_counts(normalize=True).rename(\"proportion\")\n",
    " .reset_index().pipe((sns.barplot, \"data\"), x=\"device_score\", y=\"proportion\", hue=\"fraude\",ax = axes[2,1]))"
   ]
  },
  {
   "cell_type": "markdown",
   "id": "53701f14",
   "metadata": {},
   "source": [
    "## Análisis a nivel de transacción\n",
    "Como se observó anteriormente, el dataset presenta cada dato a nivel de transacción, en donde hay usuarios con más de una trasancción, debido a esto es importante entender como se comporta las transacciones de nivel de sus variables y posteriormente hacer el mismo análisis a nivel de usuario. Para ello se procede a entender como se comportan las variables"
   ]
  },
  {
   "cell_type": "code",
   "execution_count": 10,
   "id": "17180899",
   "metadata": {
    "scrolled": true
   },
   "outputs": [
    {
     "name": "stdout",
     "output_type": "stream",
     "text": [
      "Monto\n",
      "Promedio de monto en trasacciones fraudulentas: 496.196\n",
      "Promedio de monto en trasacciones no fraudulentas: 493.438\n",
      "Cashback\n",
      "Promedio de cashback en trasacciones fraudulentas: 6.154\n",
      "Promedio de cashback en trasacciones no fraudulentas: 6.222\n",
      "Línea TC\n",
      "Promedio de linea_tc en trasacciones fraudulentas: 61448.889\n",
      "Promedio de linea_tc en trasacciones no fraudulentas: 62339.106\n",
      "Interés TC\n",
      "Promedio de interes_tc en trasacciones fraudulentas: 48.156\n",
      "Promedio de interes_tc en trasacciones no fraudulentas: 48.158\n"
     ]
    }
   ],
   "source": [
    "#Variables numericas\n",
    "df_fraude_grouped = df_fraude.groupby(['ID_USER']).agg({'monto':'mean','cashback':'mean',\n",
    "                                                       'linea_tc':'mean','interes_tc':'mean',\n",
    "                                                       'dcto':'mean'})\n",
    "df_noFraude_grouped = df_noFraude.groupby(['ID_USER']).agg({'monto':'mean','cashback':'mean',\n",
    "                                                           'linea_tc':'mean','interes_tc':'mean',\n",
    "                                                            'dcto':'mean'})\n",
    "\n",
    "\n",
    "mean_amount_fraud = np.mean(df_fraude_grouped['monto'])\n",
    "mean_amount_nofraud =np.mean(df_noFraude_grouped['monto'])\n",
    "print(\"Monto\")\n",
    "print(\"Promedio de monto en trasacciones fraudulentas: %.3f\" % mean_amount_nofraud)\n",
    "print(\"Promedio de monto en trasacciones no fraudulentas: %.3f\" % mean_amount_fraud)\n",
    "\n",
    "print(\"Cashback\")\n",
    "mean_cashback_fraud = np.mean(df_fraude_grouped['cashback'])\n",
    "mean_cashback_nofraud =np.mean(df_noFraude_grouped['cashback'])\n",
    "print(\"Promedio de cashback en trasacciones fraudulentas: %.3f\" % mean_cashback_fraud)\n",
    "print(\"Promedio de cashback en trasacciones no fraudulentas: %.3f\" % mean_cashback_nofraud)\n",
    "\n",
    "print(\"Línea TC\")\n",
    "mean_lineaTC_fraud = np.mean(df_fraude_grouped['linea_tc'])\n",
    "mean_lineaTC_nofraud =np.mean(df_noFraude_grouped['linea_tc'])\n",
    "print(\"Promedio de linea_tc en trasacciones fraudulentas: %.3f\" % mean_lineaTC_fraud)\n",
    "print(\"Promedio de linea_tc en trasacciones no fraudulentas: %.3f\" % mean_lineaTC_nofraud)\n",
    "\n",
    "print(\"Interés TC\")\n",
    "mean_interes_tc_fraud = np.mean(df_fraude_grouped['interes_tc'])\n",
    "mean_interes_tc_nofraud =np.mean(df_noFraude_grouped['interes_tc'])\n",
    "print(\"Promedio de interes_tc en trasacciones fraudulentas: %.3f\" % mean_interes_tc_fraud)\n",
    "print(\"Promedio de interes_tc en trasacciones no fraudulentas: %.3f\" % mean_interes_tc_nofraud)"
   ]
  },
  {
   "cell_type": "markdown",
   "id": "670c50bf",
   "metadata": {},
   "source": [
    "## Analisis a nivel de usuario\n",
    "Ahora se procede a revisar esta información a nivel de usuario, ya que es importante entender sí existe alguna característica evidente de las personas que tienen alguna transacción fraudulenta. Dentro del dataset, existen bastantes usuarios que tienen muchas transacción correctas y algunas fraudulentas, dado esto se define como usuario fraudulente aquel tenga al menos una transacción fraudulenta."
   ]
  },
  {
   "cell_type": "code",
   "execution_count": 11,
   "id": "5aa4b279",
   "metadata": {
    "scrolled": true
   },
   "outputs": [
    {
     "name": "stdout",
     "output_type": "stream",
     "text": [
      "Transacciones\n",
      "Promedio de transacciones personas que no hacen fraude: 5.769\n",
      "Promedio de transacciones personas que sí hacen fraude: 11.544\n",
      "Monto\n",
      "Promedio de gasto promedio personas que no hacen fraude: 495.662\n",
      "Promedio de gasto promedio personas que sí hacen fraude: 497.543\n",
      "Cashback\n",
      "Promedio de cashback personas que no hacen fraude: 6.231\n",
      "Promedio de cashback promedio personas que sí hacen fraude: 6.203\n"
     ]
    }
   ],
   "source": [
    "ids_fraude = df[df['fraude']==True][['ID_USER']].drop_duplicates()\n",
    "ids_fraude['user_fraude'] = 1\n",
    "ids_fraude.set_index('ID_USER',inplace=True)\n",
    "df_p = df.set_index('ID_USER').join(ids_fraude)\n",
    "\n",
    "df_fraude_grouped = df_p[df_p['user_fraude']==1].groupby(['ID_USER']).agg({'fecha':'count','monto':'mean','cashback':'mean',\n",
    "                                                       'linea_tc':'mean','interes_tc':'mean',\n",
    "                                                       'dcto':'mean'})\n",
    "df_noFraude_grouped = df_p[df_p['user_fraude']!=1].groupby(['ID_USER']).agg({'fecha':'count','monto':'mean','cashback':'mean',\n",
    "                                                       'linea_tc':'mean','interes_tc':'mean',\n",
    "                                                       'dcto':'mean'})\n",
    "print(\"Transacciones\")\n",
    "mean_trans_fraud = np.mean(df_fraude_grouped['fecha'])\n",
    "mean_trans_nofraud =np.mean(df_noFraude_grouped['fecha'])\n",
    "print(\"Promedio de transacciones personas que no hacen fraude: %.3f\" % mean_trans_nofraud)\n",
    "print(\"Promedio de transacciones personas que sí hacen fraude: %.3f\" % mean_trans_fraud)\n",
    "\n",
    "print(\"Monto\")\n",
    "mean_amount_fraud = np.mean(df_fraude_grouped['monto'])\n",
    "mean_amount_nofraud =np.mean(df_noFraude_grouped['monto'])\n",
    "print(\"Promedio de gasto promedio personas que no hacen fraude: %.3f\" % mean_amount_nofraud)\n",
    "print(\"Promedio de gasto promedio personas que sí hacen fraude: %.3f\" % mean_amount_fraud)\n",
    "\n",
    "print(\"Cashback\")\n",
    "mean_cashback_fraud = np.mean(df_fraude_grouped['cashback'])\n",
    "mean_cashback_nofraud =np.mean(df_noFraude_grouped['cashback'])\n",
    "print(\"Promedio de cashback personas que no hacen fraude: %.3f\" % mean_cashback_fraud)\n",
    "print(\"Promedio de cashback promedio personas que sí hacen fraude: %.3f\" % mean_cashback_nofraud)\n"
   ]
  },
  {
   "cell_type": "markdown",
   "id": "a661328a",
   "metadata": {},
   "source": [
    "Como se observa en los resultados anteriores, una diferencia notable entre estos dos grupos es que la cantidad de trasacciones promedio es mayor para las personas que cometen fraude, tenemos como ejemplo el siguiente caso:"
   ]
  },
  {
   "cell_type": "code",
   "execution_count": 12,
   "id": "24562414",
   "metadata": {},
   "outputs": [
    {
     "data": {
      "text/html": [
       "<div>\n",
       "<style scoped>\n",
       "    .dataframe tbody tr th:only-of-type {\n",
       "        vertical-align: middle;\n",
       "    }\n",
       "\n",
       "    .dataframe tbody tr th {\n",
       "        vertical-align: top;\n",
       "    }\n",
       "\n",
       "    .dataframe thead th {\n",
       "        text-align: right;\n",
       "    }\n",
       "</style>\n",
       "<table border=\"1\" class=\"dataframe\">\n",
       "  <thead>\n",
       "    <tr style=\"text-align: right;\">\n",
       "      <th></th>\n",
       "      <th>ID_USER</th>\n",
       "      <th>fecha</th>\n",
       "      <th>fraude</th>\n",
       "      <th>monto</th>\n",
       "    </tr>\n",
       "  </thead>\n",
       "  <tbody>\n",
       "    <tr>\n",
       "      <th>36</th>\n",
       "      <td>9</td>\n",
       "      <td>2020-01-04</td>\n",
       "      <td>False</td>\n",
       "      <td>305.178078</td>\n",
       "    </tr>\n",
       "    <tr>\n",
       "      <th>41</th>\n",
       "      <td>9</td>\n",
       "      <td>2020-01-07</td>\n",
       "      <td>False</td>\n",
       "      <td>449.202371</td>\n",
       "    </tr>\n",
       "    <tr>\n",
       "      <th>43</th>\n",
       "      <td>9</td>\n",
       "      <td>2020-01-07</td>\n",
       "      <td>False</td>\n",
       "      <td>9.490080</td>\n",
       "    </tr>\n",
       "    <tr>\n",
       "      <th>37</th>\n",
       "      <td>9</td>\n",
       "      <td>2020-01-14</td>\n",
       "      <td>True</td>\n",
       "      <td>253.327147</td>\n",
       "    </tr>\n",
       "    <tr>\n",
       "      <th>38</th>\n",
       "      <td>9</td>\n",
       "      <td>2020-01-16</td>\n",
       "      <td>False</td>\n",
       "      <td>18.471148</td>\n",
       "    </tr>\n",
       "    <tr>\n",
       "      <th>39</th>\n",
       "      <td>9</td>\n",
       "      <td>2020-01-17</td>\n",
       "      <td>False</td>\n",
       "      <td>637.948552</td>\n",
       "    </tr>\n",
       "    <tr>\n",
       "      <th>42</th>\n",
       "      <td>9</td>\n",
       "      <td>2020-01-18</td>\n",
       "      <td>False</td>\n",
       "      <td>586.507627</td>\n",
       "    </tr>\n",
       "    <tr>\n",
       "      <th>35</th>\n",
       "      <td>9</td>\n",
       "      <td>2020-01-21</td>\n",
       "      <td>False</td>\n",
       "      <td>687.625262</td>\n",
       "    </tr>\n",
       "    <tr>\n",
       "      <th>44</th>\n",
       "      <td>9</td>\n",
       "      <td>2020-01-26</td>\n",
       "      <td>False</td>\n",
       "      <td>581.564202</td>\n",
       "    </tr>\n",
       "    <tr>\n",
       "      <th>40</th>\n",
       "      <td>9</td>\n",
       "      <td>2020-01-27</td>\n",
       "      <td>False</td>\n",
       "      <td>812.327552</td>\n",
       "    </tr>\n",
       "  </tbody>\n",
       "</table>\n",
       "</div>"
      ],
      "text/plain": [
       "    ID_USER       fecha  fraude       monto\n",
       "36        9  2020-01-04   False  305.178078\n",
       "41        9  2020-01-07   False  449.202371\n",
       "43        9  2020-01-07   False    9.490080\n",
       "37        9  2020-01-14    True  253.327147\n",
       "38        9  2020-01-16   False   18.471148\n",
       "39        9  2020-01-17   False  637.948552\n",
       "42        9  2020-01-18   False  586.507627\n",
       "35        9  2020-01-21   False  687.625262\n",
       "44        9  2020-01-26   False  581.564202\n",
       "40        9  2020-01-27   False  812.327552"
      ]
     },
     "execution_count": 12,
     "metadata": {},
     "output_type": "execute_result"
    }
   ],
   "source": [
    "df[df['ID_USER']==9][['ID_USER','fecha','fraude','monto']].sort_values(['fecha'])"
   ]
  },
  {
   "cell_type": "markdown",
   "id": "1010d756",
   "metadata": {},
   "source": [
    "Este usuario, posee 10 trasacciones en donde 1 de ella fue categorizada como fraudulenta, lo curioso es que el usuario sigue generando muchas más transacciones despues."
   ]
  },
  {
   "cell_type": "code",
   "execution_count": 13,
   "id": "275ac59d",
   "metadata": {
    "scrolled": true
   },
   "outputs": [
    {
     "data": {
      "text/plain": [
       "<AxesSubplot:xlabel='genero', ylabel='proportion'>"
      ]
     },
     "execution_count": 13,
     "metadata": {},
     "output_type": "execute_result"
    },
    {
     "data": {
      "image/png": "[encoded data removed]",
      "text/plain": [
       "<Figure size 432x288 with 1 Axes>"
      ]
     },
     "metadata": {},
     "output_type": "display_data"
    }
   ],
   "source": [
    "x, y, hue = \"genero\", \"proportion\", \"fraude\"\n",
    "hue_order = df_p['user_fraude'].unique()\n",
    "\n",
    "(df_p[x]\n",
    " .groupby(df[hue])\n",
    " .value_counts(normalize=True)\n",
    " .rename(y)\n",
    " .reset_index()\n",
    " .pipe((sns.barplot, \"data\"), x=x, y=y, hue=hue))"
   ]
  },
  {
   "cell_type": "markdown",
   "id": "69e1bb38",
   "metadata": {},
   "source": [
    "<a id = 'Model'></a>\n",
    "# <font color = \"darkblue\">Modelo</font>"
   ]
  },
  {
   "cell_type": "markdown",
   "id": "55cb4610",
   "metadata": {},
   "source": [
    "Dado lo observado en la sección anterior, este apartado tiene como objetivo probar diferentes modelos para la detección de fraude. Para ello se utilizará como modelo base los árboles de decisión que han demostrado ser buenos para modelos desbalanceados y para detección de fraude.[1]\n",
    "\n",
    "Para encontrar el mejor modelo se prueba diferentes métodos, se toman los resultados y se analiza que modelo fue el que tuvo el mejor rendimiendo. Los métodos utilizados fueron los siguientes:\n",
    "* Árbol de decisión\n",
    "* Árbol de decisión con sobre muestreo\n",
    "* Árbol de decisión SMOTE\n",
    "* Árbol de decisión con costos asociados de clasificación\n",
    "\n",
    "Adicionalmente, por cada modelo se generan subsets de entrenamiento y test, utilizando la proporción 0.75 y 0.25 respectivamente. Por otro lado, se utilizan como métricas de medición matriz de confución, F-score y sensibilidad."
   ]
  },
  {
   "cell_type": "markdown",
   "id": "129ac1c3",
   "metadata": {},
   "source": [
    "<a id = 'model1'></a>\n",
    "## <font color = \"darkblue\">1er aproach (Árbol de decisión)</font>\n",
    "\n",
    "\n",
    "Para este primer modelo se quiso probar que resultados se obtienen con la data original, para ello se separan las variables numericas de las categoricas y se obtienen los resultados del modelo. Posteriormente, se utilizan árboles de decisión para detectar que variables son las más representativas para la clasificación, luego se retiran y se vuelve a probar el modelo"
   ]
  },
  {
   "cell_type": "code",
   "execution_count": 14,
   "id": "5247f421",
   "metadata": {
    "scrolled": true
   },
   "outputs": [],
   "source": [
    "df_clasificar11 = pd.DataFrame(df, columns=df.columns)\n",
    "col_names11 = df.columns\n",
    "feature_cols11 = [ 'genero', 'monto', 'fecha', 'hora',\n",
    "       'establecimiento', 'ciudad', 'tipo_tc', 'linea_tc', 'interes_tc',\n",
    "       'status_txn', 'is_prime', 'dcto', 'cashback','device_score', 'os']\n",
    "\n",
    "X11 = df_clasificar11[feature_cols11]\n",
    "y11 = df_clasificar11['fraude']\n",
    "X_train11, X_test11, y_train11, y_test11 = train_test_split(X11,\n",
    "                                                    y11,\n",
    "                                                    test_size=0.25)\n",
    "\n"
   ]
  },
  {
   "cell_type": "code",
   "execution_count": 15,
   "id": "5c61969c",
   "metadata": {},
   "outputs": [],
   "source": [
    "# Parte númerica\n",
    "numeric_features11 = ['monto', 'hora', 'linea_tc','interes_tc','dcto','cashback']\n",
    "numeric_transformer11 = Pipeline(steps=[\n",
    "    ('imputer', SimpleImputer(strategy='mean')), #Retira los nulos y los reemplza por la mediana\n",
    "])\n",
    "\n",
    "# Parte categórica\n",
    "categorical_features11 = ['genero', 'fecha', 'establecimiento', 'ciudad','tipo_tc','status_txn','is_prime', 'os','device_score']\n",
    "categorical_transformer11 = Pipeline(steps=[\n",
    "    ('imputer', SimpleImputer(strategy='constant', fill_value='faltante')),#Retira los nulos y los reemplza por la categoría 'faltante'\n",
    "    ('ordinal', OrdinalEncoder()) #Encoding de las variables categoricas\n",
    "])\n",
    "\n",
    "# Se crea un objeto preprocessor\n",
    "preprocessor11 = ColumnTransformer(\n",
    "    transformers=[\n",
    "        ('num', numeric_transformer11, numeric_features11),\n",
    "        ('cat', categorical_transformer11, categorical_features11)])\n"
   ]
  },
  {
   "cell_type": "code",
   "execution_count": 16,
   "id": "b1acf594",
   "metadata": {},
   "outputs": [
    {
     "name": "stdout",
     "output_type": "stream",
     "text": [
      "Decision Tree\n",
      "Matriz de confusión\n",
      "[[   1  289]\n",
      " [ 212 6242]]\n",
      "Sensitividad %f 0.004694835680751174\n",
      "Especificidad is %f 0.9557495023732966\n",
      "Precisión %f 0.925711743772242\n",
      "Precisión balanceada % 0.48022216902702386\n",
      "F-score % 0.003976143141153081\n"
     ]
    }
   ],
   "source": [
    "# Árbol de decisón\n",
    "clf11 = Pipeline(steps=[('preprocessor', preprocessor11),\n",
    "                        ('classifier', tree.DecisionTreeClassifier())\n",
    "                        ])\n",
    "clf11 = clf11.fit(X_train11, y_train11)\n",
    "y_pred_tree11 = clf11.predict(X_test11)\n",
    "print('Decision Tree')\n",
    "F_score_11, acc_11 = display_summary(y_test11,y_pred_tree11)\n"
   ]
  },
  {
   "cell_type": "markdown",
   "id": "8f0fe839",
   "metadata": {},
   "source": [
    "#### Selección de Variables"
   ]
  },
  {
   "cell_type": "code",
   "execution_count": 17,
   "id": "ffc59b14",
   "metadata": {},
   "outputs": [
    {
     "name": "stdout",
     "output_type": "stream",
     "text": [
      "columnas a eliminar: ['dcto', 'device_score', 'establecimiento', 'ciudad', 'tipo_tc', 'status_txn', 'is_prime', 'os']\n",
      "columnas que se mantienen: ['monto', 'hora', 'linea_tc', 'interes_tc', 'cashback', 'genero', 'fecha']\n"
     ]
    }
   ],
   "source": [
    "df_prep12 = pd.DataFrame(preprocessor11.fit_transform(X_train11[feature_cols11]), \n",
    "                       columns=['monto', 'hora', 'linea_tc','interes_tc','dcto',\n",
    "                                'cashback','device_score','genero', 'fecha', \n",
    "                                'establecimiento', 'ciudad','tipo_tc','status_txn',\n",
    "                                'is_prime', 'os'])\n",
    "#Se crea un modelo de arbol que se utilizará para hallar las variables\n",
    "reg11 = ExtraTreesClassifier(n_estimators=50) \n",
    "reg11.fit(df_prep12, y_train11) #Entrenamiento\n",
    "\n",
    "imp12 = reg11.feature_importances_ #Se guardan las importancias de cada variable al modelo\n",
    "mean12 = np.mean(imp12)\n",
    "bool_array12 = imp12 >= mean12 #Vector booleano para saber que importancias están por encima de la media\n",
    "indices12 = [] #Vector de indicación de variables importantes\n",
    "indices2_12 = [] #Vector de indicación de variables no importantes\n",
    "H = 0 \n",
    "H2 = 0\n",
    "\n",
    "# Ciclo que busca las variables más representativas y almacena sus indices \n",
    "for q in range(len(bool_array12)):\n",
    "    if ~bool_array12[q]:\n",
    "        indices12.append(H)\n",
    "    H = H+1 \n",
    "# Ciclo que busca las variables menos representativas y almacena sus indices \n",
    "for w in range(len(bool_array12)):\n",
    "    if bool_array12[w]:\n",
    "        indices2_12.append(H2)\n",
    "    H2 = H2+1\n",
    "\n",
    "columnas_eliminar12 = [] # Vector que almacena el nombre de las variables menos representativas\n",
    "columnas_restantes12 = [] # Vector que almacena el nombre de las variables más representativas\n",
    "for ind in indices12:\n",
    "    columnas_eliminar12.append(df_prep12.columns[ind])\n",
    "for ind in indices2_12:\n",
    "    columnas_restantes12.append(df_prep12.columns[ind])\n",
    "    \n",
    "print('columnas a eliminar:', columnas_eliminar12)\n",
    "print('columnas que se mantienen:',columnas_restantes12)"
   ]
  },
  {
   "cell_type": "code",
   "execution_count": 18,
   "id": "0f0080ff",
   "metadata": {},
   "outputs": [],
   "source": [
    "df_clasificar12 = pd.DataFrame(df, columns=df.columns)\n",
    "feature_cols12 = [ 'monto', 'hora',   'linea_tc', 'interes_tc',\n",
    "                'cashback','fecha']\n",
    "\n",
    "X12 = df_clasificar12[feature_cols12]\n",
    "y12 = df_clasificar12['fraude']\n",
    "X_train12, X_test12, y_train12, y_test12 = train_test_split(X12,\n",
    "                                                    y12,\n",
    "                                                    test_size=0.25)"
   ]
  },
  {
   "cell_type": "code",
   "execution_count": 19,
   "id": "d3874345",
   "metadata": {},
   "outputs": [
    {
     "name": "stdout",
     "output_type": "stream",
     "text": [
      "Matriz de confusión\n",
      "[[  10  273]\n",
      " [ 198 6263]]\n",
      "Sensitividad %f 0.04807692307692308\n",
      "Especificidad is %f 0.9582313341493268\n",
      "Precisión %f 0.9301601423487544\n",
      "Precisión balanceada % 0.5031541286131249\n",
      "F-score % 0.04073319755600815\n"
     ]
    }
   ],
   "source": [
    "# Parte númerica\n",
    "numeric_features12 = ['monto', 'hora', 'linea_tc','interes_tc','cashback']\n",
    "numeric_transformer12 = Pipeline(steps=[\n",
    "    ('imputer', SimpleImputer(strategy='mean')), #Retira los nulos y los reemplza por la mediana\n",
    "])\n",
    "\n",
    "# Parte categórica\n",
    "categorical_features12 = [ 'fecha']\n",
    "categorical_transformer12 = Pipeline(steps=[\n",
    "    ('imputer', SimpleImputer(strategy='constant', fill_value='faltante')),#Retira los nulos y los reemplza por la categoría 'faltante'\n",
    "    ('ordinal', OrdinalEncoder()) #Encoding de las variables categoricas\n",
    "])\n",
    "\n",
    "# Se crea un objeto preprocessor\n",
    "preprocessor12 = ColumnTransformer(\n",
    "    transformers=[\n",
    "        ('num', numeric_transformer12, numeric_features12),\n",
    "        ('cat', categorical_transformer12, categorical_features12)])\n",
    "\n",
    "# Árbol de decisón\n",
    "clf12 = Pipeline(steps=[('preprocessor', preprocessor12),\n",
    "                        ('classifier', tree.DecisionTreeClassifier())\n",
    "                        ])\n",
    "clf12 = clf12.fit(X_train12, y_train12)\n",
    "y_pred_tree12 = clf12.predict(X_test12)\n",
    "F_score_12, acc_12 = display_summary(y_test12,y_pred_tree12)\n",
    "\n"
   ]
  },
  {
   "cell_type": "markdown",
   "id": "bb9f5683",
   "metadata": {},
   "source": [
    "<a id = 'model2'></a>\n",
    "# <font color = \"darkblue\">2do aproach (Sobre muestreo + Sub muestreo)</font>\n",
    "\n",
    "\n",
    "Para el segundo modelo se quiso arreglar el desbalance que existe en las categorías a clasificar, para ello se utilizó la librería de SciKit Learn Sample, y se sobre muestro la clase minoritaria con reemplazo y se sub muestro la clase mayoritaria sin reemplazo.  "
   ]
  },
  {
   "cell_type": "code",
   "execution_count": 20,
   "id": "3fae6084",
   "metadata": {
    "scrolled": true
   },
   "outputs": [
    {
     "name": "stdout",
     "output_type": "stream",
     "text": [
      "Tamaño dataset sampleado Counter({False: 5000, True: 3000})\n"
     ]
    }
   ],
   "source": [
    "df_clasificar21 = pd.DataFrame(resample(df[df['fraude']==True], n_samples=3000, replace = True),columns = df.columns)\n",
    "\n",
    "df_clasificar21 = df_clasificar21.append(pd.DataFrame(resample(df[df['fraude']==False], n_samples=5000, replace = False)))\n",
    "print('Tamaño dataset sampleado %s' % Counter(df_clasificar21['fraude']))"
   ]
  },
  {
   "cell_type": "code",
   "execution_count": 21,
   "id": "e782905d",
   "metadata": {},
   "outputs": [],
   "source": [
    "\n",
    "feature_cols21 = [ 'genero', 'monto', 'fecha', 'hora',\n",
    "       'establecimiento', 'ciudad', 'tipo_tc', 'linea_tc', 'interes_tc',\n",
    "       'status_txn', 'is_prime', 'dcto', 'cashback','device_score', 'os']\n",
    "\n",
    "X21 = df_clasificar21[feature_cols21]\n",
    "y21 = df_clasificar21['fraude']\n",
    "X_train21, X_test21, y_train21, y_test21 = train_test_split(X21,\n",
    "                                                    y21,\n",
    "                                                    test_size=0.25)"
   ]
  },
  {
   "cell_type": "code",
   "execution_count": 22,
   "id": "24135741",
   "metadata": {},
   "outputs": [
    {
     "name": "stdout",
     "output_type": "stream",
     "text": [
      "Decision Tree\n",
      "Matriz de confusión\n",
      "[[ 721  198]\n",
      " [  38 1043]]\n",
      "Sensitividad %f 0.9499341238471674\n",
      "Especificidad is %f 0.8404512489927478\n",
      "Precisión %f 0.882\n",
      "Precisión balanceada % 0.8951926864199575\n",
      "F-score % 0.8593563766388558\n"
     ]
    }
   ],
   "source": [
    "# Parte númerica\n",
    "numeric_features21 = ['monto', 'hora', 'linea_tc','interes_tc','dcto','cashback']\n",
    "numeric_transformer21 = Pipeline(steps=[\n",
    "    ('imputer', SimpleImputer(strategy='mean')), #Retira los nulos y los reemplza por la mediana\n",
    "])\n",
    "\n",
    "# Parte categórica\n",
    "categorical_features21 = ['genero', 'fecha', 'establecimiento', 'ciudad','tipo_tc','status_txn','is_prime', 'os','device_score']\n",
    "categorical_transformer21 = Pipeline(steps=[\n",
    "    ('imputer', SimpleImputer(strategy='constant', fill_value='faltante')),#Retira los nulos y los reemplza por la categoría 'faltante'\n",
    "    ('ordinal', OrdinalEncoder()) #Encoding de las variables categoricas\n",
    "])\n",
    "\n",
    "# Se crea un objeto preprocessor\n",
    "preprocessor21 = ColumnTransformer(\n",
    "    transformers=[\n",
    "        ('num', numeric_transformer21, numeric_features21),\n",
    "        ('cat', categorical_transformer21, categorical_features21)])\n",
    "\n",
    "# Árbol de decisón\n",
    "clf21 = Pipeline(steps=[('preprocessor', preprocessor21),\n",
    "                        ('classifier', tree.DecisionTreeClassifier())\n",
    "                        ])\n",
    "clf21 = clf21.fit(X_train21, y_train21)\n",
    "y_pred_tree21 = clf21.predict(X_test21)\n",
    "print('Decision Tree')\n",
    "F_score_21, acc_21 = display_summary(y_test21,y_pred_tree21)\n"
   ]
  },
  {
   "cell_type": "markdown",
   "id": "6bcee180",
   "metadata": {},
   "source": [
    "#### Selección de Variables"
   ]
  },
  {
   "cell_type": "code",
   "execution_count": 23,
   "id": "3c92a054",
   "metadata": {},
   "outputs": [
    {
     "name": "stdout",
     "output_type": "stream",
     "text": [
      "columnas a eliminar: ['dcto', 'device_score', 'ciudad', 'tipo_tc', 'status_txn']\n",
      "columnas que se mantienen: ['monto', 'hora', 'linea_tc', 'interes_tc', 'cashback', 'genero', 'fecha', 'establecimiento', 'is_prime', 'os']\n"
     ]
    }
   ],
   "source": [
    "df_prep22 = pd.DataFrame(preprocessor21.fit_transform(X_train21[feature_cols21]), \n",
    "                       columns=['monto', 'hora', 'linea_tc','interes_tc',\n",
    "                                'dcto','cashback','device_score','genero', \n",
    "                                'fecha', 'establecimiento', 'ciudad','tipo_tc',\n",
    "                                'status_txn','is_prime', 'os'])\n",
    "#Se crea un modelo de arbol que se utilizará para hallar las variables\n",
    "reg22 = ExtraTreesClassifier(n_estimators=50) \n",
    "reg22.fit(df_prep22, y_train21) #Entrenamiento\n",
    "\n",
    "imp22 = reg22.feature_importances_ #Se guardan las importancias de cada variable al modelo\n",
    "mean22 = np.mean(imp22)\n",
    "bool_array22 = imp22 >= mean22 #Vector booleano para saber que importancias están por encima de la media\n",
    "indices22 = [] #Vector de indicación de variables importantes\n",
    "indices2_22 = [] #Vector de indicación de variables no importantes\n",
    "H = 0 \n",
    "H2 = 0\n",
    "\n",
    "# Ciclo que busca las variables más representativas y almacena sus indices \n",
    "for q in range(len(bool_array22)):\n",
    "    if ~bool_array22[q]:\n",
    "        indices22.append(H)\n",
    "    H = H+1 \n",
    "# Ciclo que busca las variables menos representativas y almacena sus indices \n",
    "for w in range(len(bool_array22)):\n",
    "    if bool_array22[w]:\n",
    "        indices2_22.append(H2)\n",
    "    H2 = H2+1\n",
    "\n",
    "columnas_eliminar22 = [] # Vector que almacena el nombre de las variables menos representativas\n",
    "columnas_restantes22 = [] # Vector que almacena el nombre de las variables más representativas\n",
    "for ind in indices22:\n",
    "    columnas_eliminar22.append(df_prep22.columns[ind])\n",
    "for ind in indices2_22:\n",
    "    columnas_restantes22.append(df_prep22.columns[ind])\n",
    "    \n",
    "    \n",
    "print('columnas a eliminar:', columnas_eliminar22)\n",
    "print('columnas que se mantienen:',columnas_restantes22)"
   ]
  },
  {
   "cell_type": "code",
   "execution_count": 24,
   "id": "254b1ac9",
   "metadata": {},
   "outputs": [],
   "source": [
    "df_clasificar22 = pd.DataFrame(resample(df[df['fraude']==True], n_samples=3000, replace = True),columns = df.columns)\n",
    "\n",
    "df_clasificar22 = df_clasificar22.append(pd.DataFrame(resample(df[df['fraude']==False], n_samples=5000, replace = False)))\n",
    "feature_cols22 = ['monto', 'fecha', 'hora', 'linea_tc', 'interes_tc',\n",
    "                'cashback','genero',  'os']\n",
    "\n",
    "X22 = df_clasificar22[feature_cols22]\n",
    "y22 = df_clasificar22['fraude']\n",
    "X_train22, X_test22, y_train22, y_test22 = train_test_split(X22,\n",
    "                                                    y22,\n",
    "                                                    test_size=0.25)"
   ]
  },
  {
   "cell_type": "code",
   "execution_count": 25,
   "id": "6cde345a",
   "metadata": {},
   "outputs": [
    {
     "name": "stdout",
     "output_type": "stream",
     "text": [
      "Decision Tree\n",
      "Matriz de confusión\n",
      "[[ 714  221]\n",
      " [  51 1014]]\n",
      "Sensitividad %f 0.9333333333333333\n",
      "Especificidad is %f 0.8210526315789474\n",
      "Precisión %f 0.864\n",
      "Precisión balanceada % 0.8771929824561404\n",
      "F-score % 0.84\n"
     ]
    }
   ],
   "source": [
    "# Parte númerica\n",
    "numeric_features22 = ['monto', 'hora', 'linea_tc','interes_tc','cashback']\n",
    "numeric_transformer22 = Pipeline(steps=[\n",
    "    ('imputer', SimpleImputer(strategy='mean')), #Retira los nulos y los reemplza por la mediana\n",
    "])\n",
    "\n",
    "# Parte categórica\n",
    "categorical_features22 = [ 'fecha', 'genero','os']\n",
    "categorical_transformer22 = Pipeline(steps=[\n",
    "    ('imputer', SimpleImputer(strategy='constant', fill_value='faltante')),#Retira los nulos y los reemplza por la categoría 'faltante'\n",
    "    ('ordinal', OrdinalEncoder()) #Encoding de las variables categoricas\n",
    "])\n",
    "\n",
    "# Se crea un objeto preprocessor\n",
    "preprocessor22 = ColumnTransformer(\n",
    "    transformers=[\n",
    "        ('num', numeric_transformer22, numeric_features22),\n",
    "        ('cat', categorical_transformer22, categorical_features22)])\n",
    "\n",
    "# Árbol de decisón\n",
    "clf22 = Pipeline(steps=[('preprocessor', preprocessor22),\n",
    "                        ('classifier', tree.DecisionTreeClassifier())\n",
    "                        ])\n",
    "clf22 = clf22.fit(X_train22, y_train22)\n",
    "y_pred_tree22 = clf22.predict(X_test22)\n",
    "print('Decision Tree')\n",
    "F_score_22, acc_22 = display_summary(y_test22,y_pred_tree22)"
   ]
  },
  {
   "cell_type": "markdown",
   "id": "c0f978e5",
   "metadata": {},
   "source": [
    "\n",
    "<a id = 'model3'></a>\n",
    "# <font color = \"darkblue\"> 3er aproach (SMOTE)</font>\n",
    "\n",
    "Para este ejercicio, se quiso probar una forma distinta de muestreo de la clase minoritaria, la técnica SMOTE es muy útil cuando la clase minoritaria es considerablemente menor [2]"
   ]
  },
  {
   "cell_type": "code",
   "execution_count": 26,
   "id": "6f5b67e4",
   "metadata": {},
   "outputs": [
    {
     "name": "stdout",
     "output_type": "stream",
     "text": [
      "Resampled dataset shape Counter({False: 26165, True: 26165})\n"
     ]
    }
   ],
   "source": [
    "# Parte númerica\n",
    "numeric_features31 = ['monto', 'hora', 'linea_tc','interes_tc','dcto','cashback']\n",
    "numeric_transformer31 = Pipeline(steps=[\n",
    "    ('imputer', SimpleImputer(strategy='mean')), #Retira los nulos y los reemplza por la mediana\n",
    "])\n",
    "\n",
    "# Parte categórica\n",
    "categorical_features31 = ['genero', 'fecha', 'establecimiento', 'ciudad','tipo_tc','status_txn','is_prime',\n",
    "                        'model', 'os','device_score']\n",
    "categorical_transformer31 = Pipeline(steps=[\n",
    "    ('imputer', SimpleImputer(strategy='constant', fill_value='faltante')),#Retira los nulos y los reemplza por la categoría 'faltante'\n",
    "    ('ordinal', OrdinalEncoder()) #Encoding de las variables categoricas\n",
    "])\n",
    "\n",
    "# Se crea un objeto preprocessor\n",
    "preprocessor31 = ColumnTransformer(\n",
    "    transformers=[\n",
    "        ('num', numeric_transformer31, numeric_features31),\n",
    "        ('cat', categorical_transformer31, categorical_features31)])\n",
    "\n",
    "\n",
    "feature_cols31 = [ 'genero', 'monto', 'fecha', 'hora',\n",
    "       'establecimiento', 'ciudad', 'tipo_tc', 'linea_tc', 'interes_tc',\n",
    "       'status_txn', 'is_prime', 'dcto', 'cashback', 'model','device_score', 'os']\n",
    "df_clasificar31 = pd.DataFrame(df, columns=df.columns)\n",
    "df_prep31 = pd.DataFrame(preprocessor31.fit_transform(df_clasificar31[feature_cols31]), \n",
    "                       columns=['monto', 'hora', 'linea_tc','interes_tc',\n",
    "                                        'dcto','cashback','device_score','genero', \n",
    "                                        'fecha','establecimiento', 'ciudad','tipo_tc',\n",
    "                                        'status_txn','is_prime','model', 'os'])\n",
    "\n",
    "X31 = df_prep31[feature_cols31]\n",
    "y31 = df['fraude']\n",
    "\n",
    "# Apply the SMOTE over−sampling \n",
    "sm31 = SMOTE(sampling_strategy='auto' )\n",
    "X_resampled31, y_resampled31 = sm31.fit_resample(X31, y31)\n",
    "print('Resampled dataset shape %s' % Counter(y_resampled31))"
   ]
  },
  {
   "cell_type": "code",
   "execution_count": 27,
   "id": "a80fbc54",
   "metadata": {
    "scrolled": false
   },
   "outputs": [
    {
     "name": "stdout",
     "output_type": "stream",
     "text": [
      "Decision Tree\n",
      "Matriz de confusión\n",
      "[[6326  329]\n",
      " [ 180 6248]]\n",
      "Sensitividad %f 0.9723332308638181\n",
      "Especificidad is %f 0.9499771932492017\n",
      "Precisión %f 0.9610945501796224\n",
      "Precisión balanceada % 0.9611552120565099\n",
      "F-score % 0.9613251272699643\n"
     ]
    }
   ],
   "source": [
    "X31 = X_resampled31\n",
    "y31 = y_resampled31\n",
    "X_train31, X_test31, y_train31, y_test31 = train_test_split(X31,\n",
    "                                                    y31,\n",
    "                                                    test_size=0.25)\n",
    "\n",
    "# Árbol de decisón\n",
    "clf31 = Pipeline(steps=[\n",
    "                        ('classifier', tree.DecisionTreeClassifier())\n",
    "                        ])\n",
    "clf31 = clf31.fit(X_train31, y_train31)\n",
    "y_pred_tree31 = clf31.predict(X_test31)\n",
    "print('Decision Tree')\n",
    "F_score_31, acc_31 = display_summary(y_test31,y_pred_tree31)\n"
   ]
  },
  {
   "cell_type": "markdown",
   "id": "48630e50",
   "metadata": {},
   "source": [
    "#### Selección de Variables"
   ]
  },
  {
   "cell_type": "code",
   "execution_count": 28,
   "id": "ca911a9e",
   "metadata": {},
   "outputs": [
    {
     "name": "stdout",
     "output_type": "stream",
     "text": [
      "columnas a eliminar: ['monto', 'hora', 'interes_tc', 'genero', 'fecha', 'establecimiento', 'ciudad', 'tipo_tc', 'status_txn']\n",
      "columnas que se mantienen: ['linea_tc', 'dcto', 'cashback', 'device_score', 'is_prime', 'model', 'os']\n"
     ]
    }
   ],
   "source": [
    "df_prep32 = pd.DataFrame(preprocessor31.fit_transform(df_clasificar31[feature_cols31]), \n",
    "                       columns=['monto', 'hora', 'linea_tc','interes_tc',\n",
    "                                        'dcto','cashback','device_score','genero', \n",
    "                                        'fecha','establecimiento', 'ciudad','tipo_tc',\n",
    "                                        'status_txn','is_prime','model', 'os'])\n",
    "#Se crea un modelo de arbol que se utilizará para hallar las variables\n",
    "reg32 = ExtraTreesClassifier(n_estimators=50) \n",
    "reg32.fit(X_resampled31, y_resampled31) #Entrenamiento\n",
    "\n",
    "imp32 = reg32.feature_importances_ #Se guardan las importancias de cada variable al modelo\n",
    "mean32 = np.mean(imp32)\n",
    "bool_array32 = imp32 >= mean32 #Vector booleano para saber que importancias están por encima de la media\n",
    "indices32 = [] #Vector de indicación de variables importantes\n",
    "indices2_32 = [] #Vector de indicación de variables no importantes\n",
    "H = 0 \n",
    "H2 = 0\n",
    "\n",
    "# Ciclo que busca las variables más representativas y almacena sus indices \n",
    "for q in range(len(bool_array32)):\n",
    "    if ~bool_array32[q]:\n",
    "        indices32.append(H)\n",
    "    H = H+1 \n",
    "# Ciclo que busca las variables menos representativas y almacena sus indices \n",
    "for w in range(len(bool_array32)):\n",
    "    if bool_array32[w]:\n",
    "        indices2_32.append(H2)\n",
    "    H2 = H2+1\n",
    "\n",
    "columnas_eliminar32 = [] # Vector que almacena el nombre de las variables menos representativas\n",
    "columnas_restantes32 = [] # Vector que almacena el nombre de las variables más representativas\n",
    "for ind in indices32:\n",
    "    columnas_eliminar32.append(df_prep32.columns[ind])\n",
    "for ind in indices2_32:\n",
    "    columnas_restantes32.append(df_prep32.columns[ind])\n",
    "    \n",
    "        \n",
    "print('columnas a eliminar:', columnas_eliminar32)\n",
    "print('columnas que se mantienen:',columnas_restantes32)"
   ]
  },
  {
   "cell_type": "code",
   "execution_count": 29,
   "id": "4050f2bb",
   "metadata": {},
   "outputs": [
    {
     "name": "stdout",
     "output_type": "stream",
     "text": [
      "Decision Tree\n",
      "Matriz de confusión\n",
      "[[6326  329]\n",
      " [ 180 6248]]\n",
      "Sensitividad %f 0.9723332308638181\n",
      "Especificidad is %f 0.9499771932492017\n",
      "Precisión %f 0.9610945501796224\n",
      "Precisión balanceada % 0.9611552120565099\n",
      "F-score % 0.9613251272699643\n"
     ]
    }
   ],
   "source": [
    "# Árbol de decisón\n",
    "clf32 = Pipeline(steps=[\n",
    "                        ('classifier', tree.DecisionTreeClassifier())\n",
    "                        ])\n",
    "clf32 = clf32.fit(X_train31[columnas_restantes32], y_train31)\n",
    "y_pred_tree32 = clf32.predict(X_test31[columnas_restantes32])\n",
    "print('Decision Tree')\n",
    "F_score_32, acc_32 = display_summary(y_test31,y_pred_tree31)\n"
   ]
  },
  {
   "cell_type": "markdown",
   "id": "4b89fb5e",
   "metadata": {},
   "source": [
    "\n",
    "<a id = 'model3'></a>\n",
    "# <font color = \"darkblue\"> 4to Aproach (Modelo sensible al costo)</font>\n",
    "\n",
    "Con base al paper \"Fraud Detection by Stacking Cost-Sensitive Decision Trees\" se quiso tomar un enfoque distinto y llevar el problema a un enfoque más orientado a la realidad del problema. En este texto se describe como los modelos de fraude que tienen en cuentas los costos reales de clasificar mal o bien pueden afectar el resultado del modelo. "
   ]
  },
  {
   "cell_type": "code",
   "execution_count": 30,
   "id": "18cce892",
   "metadata": {
    "scrolled": true
   },
   "outputs": [],
   "source": [
    "from metrics import cost_loss, savings_score\n",
    "from models import  CostSensitiveDecisionTreeClassifier \n",
    "#Librearias tomadas de COSTCLA https://albahnsen.github.io/CostSensitiveClassification/"
   ]
  },
  {
   "cell_type": "code",
   "execution_count": 31,
   "id": "69557594",
   "metadata": {},
   "outputs": [],
   "source": [
    "df_clasificar41 = df\n",
    "\n",
    "feature_cols41 = [ 'genero', 'monto', 'fecha', 'hora',\n",
    "       'establecimiento', 'ciudad', 'tipo_tc', 'linea_tc', 'interes_tc',\n",
    "       'status_txn', 'is_prime', 'dcto', 'cashback', 'model','device_score', 'os']\n",
    "\n",
    "X41 = df_clasificar41[feature_cols41]\n",
    "y41 = df_clasificar41['fraude']\n",
    "\n",
    "X_train41, X_test41, y_train41, y_test41 = train_test_split(X41,\n",
    "                                                    y41,\n",
    "                                                    test_size=0.25)\n",
    "\n",
    "# Parte númerica\n",
    "numeric_features41 = ['monto', 'hora', 'linea_tc','interes_tc','dcto','cashback']\n",
    "numeric_transformer41 = Pipeline(steps=[\n",
    "    ('imputer', SimpleImputer(strategy='mean')), #Retira los nulos y los reemplza por la mediana\n",
    "])\n",
    "\n",
    "# Parte categórica\n",
    "categorical_features41 = ['genero', 'fecha', 'establecimiento', 'ciudad','tipo_tc','status_txn','is_prime',\n",
    "                        'model', 'os','device_score']\n",
    "categorical_transformer41 = Pipeline(steps=[\n",
    "    ('imputer', SimpleImputer(strategy='constant', fill_value='faltante')),#Retira los nulos y los reemplza por la categoría 'faltante'\n",
    "    ('ordinal', OrdinalEncoder()) #Encoding de las variables categoricas\n",
    "])\n",
    "\n",
    "# Se crea un objeto preprocessor\n",
    "preprocessor41 = ColumnTransformer(\n",
    "    transformers=[\n",
    "        ('num', numeric_transformer41, numeric_features41),\n",
    "        ('cat', categorical_transformer41, categorical_features41)])\n",
    "\n"
   ]
  },
  {
   "cell_type": "code",
   "execution_count": 32,
   "id": "a7d22164",
   "metadata": {},
   "outputs": [],
   "source": [
    "\n",
    "cost_mat_train41 = np.zeros((len(y_train41),4))\n",
    "#Costo de falsos positivos\n",
    "cost_mat_train41[:,0]=10\n",
    "#Costo de falsos negativos\n",
    "cost_mat_train41[:,1]=X_train41['monto']\n",
    "#Costo de positivos verdaderos\n",
    "cost_mat_train41[:,2]=10\n",
    " \n",
    "cost_mat_test41 = np.zeros((len(y_test41),4))\n",
    "cost_mat_test41[:,0]=10\n",
    "cost_mat_test41[:,1]=X_test41['monto']\n",
    "cost_mat_test41[:,2]=10"
   ]
  },
  {
   "cell_type": "code",
   "execution_count": 33,
   "id": "d1b2728d",
   "metadata": {
    "scrolled": false
   },
   "outputs": [
    {
     "name": "stdout",
     "output_type": "stream",
     "text": [
      "decision tree: cost sensitve learning\n",
      "60644.92371775772\n",
      "Decision Tree\n",
      "Matriz de confusión\n",
      "[[ 142 4683]\n",
      " [  61 1858]]\n",
      "Sensitividad %f 0.6995073891625616\n",
      "Especificidad is %f 0.28405442592875707\n",
      "Precisión %f 0.29655990510083036\n",
      "Precisión balanceada % 0.49178090754565934\n",
      "F-score % 0.05648369132856007\n"
     ]
    }
   ],
   "source": [
    "\n",
    "h41 = CostSensitiveDecisionTreeClassifier()\n",
    "h41.fit(np.array(preprocessor41.fit_transform(X_train41[feature_cols41])), np.array(y_train41), cost_mat_train41)\n",
    "y_pred_tree41 = h41.predict(np.array(preprocessor41.fit_transform(X_test41[feature_cols41])))\n",
    "\n",
    "print('decision tree: cost sensitve learning')\n",
    "print(cost_loss(y_test41,y_pred_tree41,cost_mat_test41))\n",
    "\n",
    "print('Decision Tree')\n",
    "F_score_41, acc_41 = display_summary(y_test41,y_pred_tree41)"
   ]
  },
  {
   "cell_type": "markdown",
   "id": "5d056c2d",
   "metadata": {},
   "source": [
    "\n",
    "<a id = 'model3'></a>\n",
    "# <font color = \"darkblue\"> 5to Aproach (Modelo sensible al costo+SMOTE) </font>\n",
    "\n",
    "Con base al paper \"Fraud Detection by Stacking Cost-Sensitive Decision Trees\" se quiso tomar un enfoque distinto y llevar el problema a un enfoque más orientado a la realidad del problema. En este texto se describe como los modelos de fraude que tienen en cuentas los costos reales de clasificar mal o bien pueden afectar el resultado del modelo. "
   ]
  },
  {
   "cell_type": "code",
   "execution_count": 34,
   "id": "4f00953b",
   "metadata": {},
   "outputs": [
    {
     "name": "stdout",
     "output_type": "stream",
     "text": [
      "Resampled dataset shape Counter({False: 26165, True: 26165})\n"
     ]
    }
   ],
   "source": [
    "# Parte númerica\n",
    "numeric_features51 = ['monto', 'hora', 'linea_tc','interes_tc','dcto','cashback']\n",
    "numeric_transformer51 = Pipeline(steps=[\n",
    "    ('imputer', SimpleImputer(strategy='mean')), #Retira los nulos y los reemplza por la mediana\n",
    "])\n",
    "\n",
    "# Parte categórica\n",
    "categorical_features51 = ['genero', 'fecha', 'establecimiento', 'ciudad','tipo_tc','status_txn','is_prime',\n",
    "                        'model', 'os','device_score']\n",
    "categorical_transformer51 = Pipeline(steps=[\n",
    "    ('imputer', SimpleImputer(strategy='constant', fill_value='faltante')),#Retira los nulos y los reemplza por la categoría 'faltante'\n",
    "    ('ordinal', OrdinalEncoder()) #Encoding de las variables categoricas\n",
    "])\n",
    "\n",
    "# Se crea un objeto preprocessor\n",
    "preprocessor51 = ColumnTransformer(\n",
    "    transformers=[\n",
    "        ('num', numeric_transformer51, numeric_features51),\n",
    "        ('cat', categorical_transformer51, categorical_features51)])\n",
    "\n",
    "\n",
    "feature_cols51 = [ 'genero', 'monto', 'fecha', 'hora',\n",
    "       'establecimiento', 'ciudad', 'tipo_tc', 'linea_tc', 'interes_tc',\n",
    "       'status_txn', 'is_prime', 'dcto', 'cashback', 'model','device_score', 'os']\n",
    "df_clasificar51 = pd.DataFrame(df, columns=df.columns)\n",
    "df_prep51 = pd.DataFrame(preprocessor51.fit_transform(df_clasificar51[feature_cols51]), \n",
    "                       columns=['monto', 'hora', 'linea_tc','interes_tc',\n",
    "                                        'dcto','cashback','device_score','genero', \n",
    "                                        'fecha','establecimiento', 'ciudad','tipo_tc',\n",
    "                                        'status_txn','is_prime','model', 'os'])\n",
    "\n",
    "X51 = df_prep51[feature_cols51]\n",
    "y51 = df['fraude']\n",
    "\n",
    "# Apply the SMOTE over−sampling \n",
    "sm51 = SMOTE(sampling_strategy='auto' )\n",
    "X_resampled51, y_resampled51 = sm51.fit_resample(X51, y51)\n",
    "print('Resampled dataset shape %s' % Counter(y_resampled51))"
   ]
  },
  {
   "cell_type": "code",
   "execution_count": 35,
   "id": "1764cb3e",
   "metadata": {
    "scrolled": false
   },
   "outputs": [
    {
     "name": "stdout",
     "output_type": "stream",
     "text": [
      "decision tree: cost sensitve learning\n",
      "1050346.963419895\n",
      "Decision Tree\n",
      "Matriz de confusión\n",
      "[[5445 3213]\n",
      " [1139 3286]]\n",
      "Sensitividad %f 0.8270048602673147\n",
      "Especificidad is %f 0.505616248653639\n",
      "Precisión %f 0.6673545822823511\n",
      "Precisión balanceada % 0.6663105544604768\n",
      "F-score % 0.7144731662511481\n"
     ]
    }
   ],
   "source": [
    "X51 = X_resampled51\n",
    "y51 = y_resampled51\n",
    "X_train51, X_test51, y_train51, y_test51 = train_test_split(X51,\n",
    "                                                    y51,\n",
    "                                                    test_size=0.25)\n",
    "cost_mat_train51 = np.zeros((len(y_train51),4))\n",
    "#Costo falsos positivos\n",
    "cost_mat_train51[:,0]=100\n",
    "#Costos falsos negativos\n",
    "cost_mat_train51[:,1]=X_train51['monto']#monto de transacción\n",
    "#Costo de verdaderos positivos\n",
    "cost_mat_train51[:,2]=100\n",
    " \n",
    "cost_mat_test51 = np.zeros((len(y_test51),4))\n",
    "cost_mat_test51[:,0]=100\n",
    "cost_mat_test51[:,1]=X_test51['monto']\n",
    "cost_mat_test51[:,2]=100\n",
    "\n",
    "h51 = CostSensitiveDecisionTreeClassifier()\n",
    "h51.fit(np.array(X_train51[feature_cols51]), np.array(y_train51), cost_mat_train51)\n",
    "y_pred_tree51 = h51.predict(np.array(X_test51[feature_cols51]))\n",
    "\n",
    "print('decision tree: cost sensitve learning')\n",
    "print(cost_loss(y_test51,y_pred_tree51,cost_mat_test51))\n",
    "\n",
    "print('Decision Tree')\n",
    "F_score_51, acc_51 = display_summary(y_test51,y_pred_tree51)"
   ]
  },
  {
   "cell_type": "markdown",
   "id": "eac81ea4",
   "metadata": {},
   "source": [
    "<a id = 'results'></a>\n",
    "# <font color = \"darkblue\"> Resultados y conclusiones</font>\n",
    "\n",
    "Como se presentó al comienzo de este notebook, el objetivo de este ejercicio fue describir y encontrar el modelo que mejor detecte transacciones fraudulentas. De los resultados obtenidos, se encontró que los modelos que utilizan técnicas de muestreo fueron los que mejores resultados obtuvieron. En donde, utilizando las metricas recomendas para problemas desbalanceados, el modelo con mejor performance fue el <font color = \"darkblue\"> árbol de decisión con SMOTE</font> filtrando las variables más representativas, en donde obtuvo un F-Score de <font color = \"darkblue\"> 0.96</font> y una precisión balanceada de <font color = \"darkblue\"> 0.96</font>. \n",
    "\n",
    "Adicionalmente, y como era de esperarse, los modelos que no se muestrearon tuvieron el peor desempeño. Finalmente, el modelo que utiliza la matriz de costos, no tuvo el mejor resultado pero para no ser balanceado (y muestreado), demostró un gran performance con respecto al modelo no muestreado. Dado esto, se cree que los resultados no tuvieron el mismo performance dado que, cómo se vio en la sección 1 de este notebook, la distribución del monto de las transacciones es muy plana, lo que ocasiona que sea dificil calcular un costo asociado a los FP y TP."
   ]
  },
  {
   "cell_type": "code",
   "execution_count": 36,
   "id": "a11aecf6",
   "metadata": {},
   "outputs": [
    {
     "data": {
      "text/html": [
       "<div>\n",
       "<style scoped>\n",
       "    .dataframe tbody tr th:only-of-type {\n",
       "        vertical-align: middle;\n",
       "    }\n",
       "\n",
       "    .dataframe tbody tr th {\n",
       "        vertical-align: top;\n",
       "    }\n",
       "\n",
       "    .dataframe thead th {\n",
       "        text-align: right;\n",
       "    }\n",
       "</style>\n",
       "<table border=\"1\" class=\"dataframe\">\n",
       "  <thead>\n",
       "    <tr style=\"text-align: right;\">\n",
       "      <th></th>\n",
       "      <th>Modelo</th>\n",
       "      <th>F-Score</th>\n",
       "      <th>Balanced Acc</th>\n",
       "    </tr>\n",
       "  </thead>\n",
       "  <tbody>\n",
       "    <tr>\n",
       "      <th>0</th>\n",
       "      <td>1.1 Árbol de decisión</td>\n",
       "      <td>0.003976143141153081</td>\n",
       "      <td>0.48022216902702386</td>\n",
       "    </tr>\n",
       "    <tr>\n",
       "      <th>1</th>\n",
       "      <td>1.2 Árbol de decisión (selección de variables)</td>\n",
       "      <td>0.04073319755600815</td>\n",
       "      <td>0.5031541286131249</td>\n",
       "    </tr>\n",
       "    <tr>\n",
       "      <th>2</th>\n",
       "      <td>2.1 Árbol de decisión muestreado</td>\n",
       "      <td>0.8593563766388558</td>\n",
       "      <td>0.8951926864199575</td>\n",
       "    </tr>\n",
       "    <tr>\n",
       "      <th>3</th>\n",
       "      <td>2.2 Árbol de decisión muestreado (selección de...</td>\n",
       "      <td>0.84</td>\n",
       "      <td>0.8771929824561404</td>\n",
       "    </tr>\n",
       "    <tr>\n",
       "      <th>4</th>\n",
       "      <td>3.1 Árbol de decisión SMOTE</td>\n",
       "      <td>0.9613251272699643</td>\n",
       "      <td>0.9611552120565099</td>\n",
       "    </tr>\n",
       "    <tr>\n",
       "      <th>5</th>\n",
       "      <td>3.2 Árbol de decisión SMOTE (selección de vari...</td>\n",
       "      <td>0.9613251272699643</td>\n",
       "      <td>0.9611552120565099</td>\n",
       "    </tr>\n",
       "    <tr>\n",
       "      <th>6</th>\n",
       "      <td>4.1 Árbol de decisión Costos</td>\n",
       "      <td>0.05648369132856007</td>\n",
       "      <td>0.49178090754565934</td>\n",
       "    </tr>\n",
       "    <tr>\n",
       "      <th>7</th>\n",
       "      <td>5.1 Árbol de decisión Costos+SMOTE</td>\n",
       "      <td>0.7144731662511481</td>\n",
       "      <td>0.6663105544604768</td>\n",
       "    </tr>\n",
       "  </tbody>\n",
       "</table>\n",
       "</div>"
      ],
      "text/plain": [
       "                                              Modelo               F-Score  \\\n",
       "0                              1.1 Árbol de decisión  0.003976143141153081   \n",
       "1     1.2 Árbol de decisión (selección de variables)   0.04073319755600815   \n",
       "2                   2.1 Árbol de decisión muestreado    0.8593563766388558   \n",
       "3  2.2 Árbol de decisión muestreado (selección de...                  0.84   \n",
       "4                        3.1 Árbol de decisión SMOTE    0.9613251272699643   \n",
       "5  3.2 Árbol de decisión SMOTE (selección de vari...    0.9613251272699643   \n",
       "6                       4.1 Árbol de decisión Costos   0.05648369132856007   \n",
       "7                 5.1 Árbol de decisión Costos+SMOTE    0.7144731662511481   \n",
       "\n",
       "          Balanced Acc  \n",
       "0  0.48022216902702386  \n",
       "1   0.5031541286131249  \n",
       "2   0.8951926864199575  \n",
       "3   0.8771929824561404  \n",
       "4   0.9611552120565099  \n",
       "5   0.9611552120565099  \n",
       "6  0.49178090754565934  \n",
       "7   0.6663105544604768  "
      ]
     },
     "execution_count": 36,
     "metadata": {},
     "output_type": "execute_result"
    }
   ],
   "source": [
    "df_resultados = pd.DataFrame(np.array([['1.1 Árbol de decisión', F_score_11, acc_11],\n",
    "                                      ['1.2 Árbol de decisión (selección de variables)', F_score_12, acc_12],\n",
    "                                      ['2.1 Árbol de decisión muestreado', F_score_21, acc_21],\n",
    "                                      ['2.2 Árbol de decisión muestreado (selección de variables)', F_score_22, acc_22],\n",
    "                                      ['3.1 Árbol de decisión SMOTE', F_score_31, acc_31],\n",
    "                                      ['3.2 Árbol de decisión SMOTE (selección de variables)', F_score_32, acc_32],\n",
    "                                      ['4.1 Árbol de decisión Costos', F_score_41, acc_41],\n",
    "                                      ['5.1 Árbol de decisión Costos+SMOTE', F_score_51, acc_51],\n",
    "                                      ]), \n",
    "                            columns= ['Modelo', 'F-Score','Balanced Acc'])\n",
    "df_resultados"
   ]
  },
  {
   "cell_type": "markdown",
   "id": "d212d3d8",
   "metadata": {},
   "source": [
    "\n",
    "### <font color = \"darkblue\"> Posibles siguientes pasos</font>\n",
    "\n",
    "Como se mencionó anteriormente, los mejores resultados se deben a los modelos en los que se utilizó alguna tecnica de muestreo, pero si quisera profundizar un futuro si se genera un cambio significativo si se utilizara  <font color = \"darkblue\"> transaction aggregation methodology</font>, ya que esta estrategia agrega variables transaccionales que pueden ayudar a los performances de los modelos. Adicionalmente, tambien sería bueno utilizar el método de \"Apilar\" árboles de decisión [1] [3]\n",
    "\n",
    "Por otro lado, dado lo encontrado en el análisis se debe agregar variables relacionadas a la cantidad de transacciones de los usuarios, ya que se encontró que las personas fraudulentas tienen más transacciones que las que no."
   ]
  }
 ],
 "metadata": {
  "kernelspec": {
   "display_name": "Python 3",
   "language": "python",
   "name": "python3"
  },
  "language_info": {
   "codemirror_mode": {
    "name": "ipython",
    "version": 3
   },
   "file_extension": ".py",
   "mimetype": "text/x-python",
   "name": "python",
   "nbconvert_exporter": "python",
   "pygments_lexer": "ipython3",
   "version": "3.8.8"
  }
 },
 "nbformat": 4,
 "nbformat_minor": 5
}
