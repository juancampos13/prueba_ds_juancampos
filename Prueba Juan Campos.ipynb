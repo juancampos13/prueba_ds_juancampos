{
 "cells": [
  {
   "cell_type": "code",
   "execution_count": 1,
   "id": "ef23e14d",
   "metadata": {},
   "outputs": [],
   "source": [
    "import pandas as pd\n",
    "import numpy as np\n",
    "\n",
    "from sklearn.linear_model import LogisticRegression\n",
    "from sklearn import tree\n",
    "from sklearn.model_selection import train_test_split\n",
    "from sklearn.neural_network import MLPClassifier\n",
    "from sklearn.ensemble import ExtraTreesClassifier\n",
    "\n",
    "from sklearn.metrics import confusion_matrix\n",
    "from sklearn.ensemble import RandomForestClassifier\n",
    "from sklearn.naive_bayes import GaussianNB\n",
    "\n",
    "from sklearn.compose import ColumnTransformer\n",
    "from sklearn.pipeline import Pipeline\n",
    "from sklearn.impute import SimpleImputer\n",
    "from sklearn.preprocessing import StandardScaler,OrdinalEncoder, KBinsDiscretizer\n",
    "\n",
    "from sklearn.model_selection import cross_val_score\n",
    "from sklearn.feature_selection import SelectFromModel\n",
    "from collections import Counter\n",
    "\n",
    "\n",
    "from sklearn.utils import resample\n",
    "from imblearn.over_sampling import SMOTE\n",
    "\n",
    "np.random.seed(0)\n",
    "import matplotlib.pyplot as plt\n",
    "\n",
    "import seaborn as sns; sns.set_theme()"
   ]
  },
  {
   "cell_type": "code",
   "execution_count": 2,
   "id": "4977f85b",
   "metadata": {},
   "outputs": [],
   "source": [
    "def display_summary(true,pred):\n",
    "    tn, fp, fn, tp = confusion_matrix(true,pred).ravel()\n",
    "    precision = tp/(tp+fp)\n",
    "    sensitivity = tp/(tp+fn)\n",
    "    balanced_accuracy = 1./2*(1.*tp/(tp+fn)+1.*tn/(tn+fp))\n",
    "    Fscore = 2.*(precision*sensitivity)/(precision+sensitivity)\n",
    "    print('confusion matrix')\n",
    "    print(np.array([[tp,fp],[fn,tn]]))\n",
    "    print('sensitivity is %f',1.*tp/(tp+fn))\n",
    "    print('specificity is %f',1.*tn/(tn+fp))\n",
    "    print('accuracy is %f',1.*(tp+tn)/(tp+tn+fp+fn))\n",
    "    print('balanced accuracy is %',1./2*(1.*tp/(tp+fn)+1.*tn/(tn+fp)))\n",
    "    print('F-score is %', Fscore)\n",
    "    return Fscore, balanced_accuracy"
   ]
  },
  {
   "cell_type": "markdown",
   "id": "14d6ac79",
   "metadata": {},
   "source": [
    "## Tabla de Contenidos\n",
    "* [Objetivo de este Notebook](#Objetivos)\n",
    "* [Análsis del dataset](#Analysis)\n",
    "* [Implementación del modelo](#Model)\n",
    "    * [Aproach 1](#model1)\n",
    "    * [Aproach 2](#model2)\n",
    "    * [Aproach 3](#model3)\n",
    "    * [Aproach 4](#model4)\n",
    "    * [Resultados](#results)\n",
    "        * [Ejemplo](#ejemploClasificacion)\n",
    "* [Conclusiones](#Model)\n",
    "* [Referencias](#segmentacion)"
   ]
  },
  {
   "cell_type": "markdown",
   "id": "c5fc5477",
   "metadata": {},
   "source": [
    "<a id = 'Objetivos'></a>\n",
    "### <font color = \"darkblue\">El Objetivo de este notebook</font>\n",
    "Presentar la solución al Data Scientist Challenge de Rappi, en donde se busca \n",
    "\n"
   ]
  },
  {
   "cell_type": "markdown",
   "id": "32d7dc21",
   "metadata": {},
   "source": [
    "<a id = 'Analysis'></a>\n",
    "# <font color = \"darkblue\">Análsis del dataset</font>\n",
    "\n",
    "En esta sección del notebook se busca entender la información que se encuentra en el dataset; cómo está consituido, que variables contiene, que variables son categoricas y cuáles son númericas, etc. Para se ello se realizan las siguientes procedimientos:\n",
    "- Análisis estadisticos\n",
    "- Distribuciones de variables continúas\n",
    "- Correlaciones de variables\n",
    "- Características de trasaccciones fradulentas y características de personas que comenten fraude\n",
    "\n",
    "\n",
    "Como primer paso se carga el dataset y se analiza las variables que contiene:"
   ]
  },
  {
   "cell_type": "code",
   "execution_count": 8,
   "id": "b39dcbaf",
   "metadata": {
    "scrolled": true
   },
   "outputs": [
    {
     "data": {
      "text/html": [
       "<div>\n",
       "<style scoped>\n",
       "    .dataframe tbody tr th:only-of-type {\n",
       "        vertical-align: middle;\n",
       "    }\n",
       "\n",
       "    .dataframe tbody tr th {\n",
       "        vertical-align: top;\n",
       "    }\n",
       "\n",
       "    .dataframe thead th {\n",
       "        text-align: right;\n",
       "    }\n",
       "</style>\n",
       "<table border=\"1\" class=\"dataframe\">\n",
       "  <thead>\n",
       "    <tr style=\"text-align: right;\">\n",
       "      <th></th>\n",
       "      <th>ID_USER</th>\n",
       "      <th>genero</th>\n",
       "      <th>monto</th>\n",
       "      <th>fecha</th>\n",
       "      <th>hora</th>\n",
       "      <th>establecimiento</th>\n",
       "      <th>ciudad</th>\n",
       "      <th>tipo_tc</th>\n",
       "      <th>linea_tc</th>\n",
       "      <th>interes_tc</th>\n",
       "      <th>status_txn</th>\n",
       "      <th>is_prime</th>\n",
       "      <th>dcto</th>\n",
       "      <th>cashback</th>\n",
       "      <th>fraude</th>\n",
       "      <th>model</th>\n",
       "      <th>device_score</th>\n",
       "      <th>os</th>\n",
       "    </tr>\n",
       "  </thead>\n",
       "  <tbody>\n",
       "    <tr>\n",
       "      <th>0</th>\n",
       "      <td>0</td>\n",
       "      <td>F</td>\n",
       "      <td>608.345634</td>\n",
       "      <td>2020-01-21</td>\n",
       "      <td>20</td>\n",
       "      <td>Super</td>\n",
       "      <td>Merida</td>\n",
       "      <td>Física</td>\n",
       "      <td>71000</td>\n",
       "      <td>51</td>\n",
       "      <td>Aceptada</td>\n",
       "      <td>False</td>\n",
       "      <td>60.834563</td>\n",
       "      <td>5.475111</td>\n",
       "      <td>False</td>\n",
       "      <td>2020</td>\n",
       "      <td>3</td>\n",
       "      <td>ANDROID</td>\n",
       "    </tr>\n",
       "    <tr>\n",
       "      <th>1</th>\n",
       "      <td>0</td>\n",
       "      <td>F</td>\n",
       "      <td>88.719243</td>\n",
       "      <td>2020-01-15</td>\n",
       "      <td>7</td>\n",
       "      <td>NaN</td>\n",
       "      <td>Merida</td>\n",
       "      <td>Virtual</td>\n",
       "      <td>71000</td>\n",
       "      <td>51</td>\n",
       "      <td>Aceptada</td>\n",
       "      <td>False</td>\n",
       "      <td>0.000000</td>\n",
       "      <td>1.774385</td>\n",
       "      <td>False</td>\n",
       "      <td>2020</td>\n",
       "      <td>1</td>\n",
       "      <td>ANDROID</td>\n",
       "    </tr>\n",
       "    <tr>\n",
       "      <th>2</th>\n",
       "      <td>1</td>\n",
       "      <td>F</td>\n",
       "      <td>790.037653</td>\n",
       "      <td>2020-01-17</td>\n",
       "      <td>11</td>\n",
       "      <td>NaN</td>\n",
       "      <td>Guadalajara</td>\n",
       "      <td>Virtual</td>\n",
       "      <td>94000</td>\n",
       "      <td>56</td>\n",
       "      <td>En proceso</td>\n",
       "      <td>False</td>\n",
       "      <td>0.000000</td>\n",
       "      <td>15.800753</td>\n",
       "      <td>False</td>\n",
       "      <td>2020</td>\n",
       "      <td>1</td>\n",
       "      <td>.</td>\n",
       "    </tr>\n",
       "    <tr>\n",
       "      <th>3</th>\n",
       "      <td>1</td>\n",
       "      <td>F</td>\n",
       "      <td>767.005387</td>\n",
       "      <td>2020-01-05</td>\n",
       "      <td>11</td>\n",
       "      <td>MPago</td>\n",
       "      <td>Guadalajara</td>\n",
       "      <td>Física</td>\n",
       "      <td>94000</td>\n",
       "      <td>56</td>\n",
       "      <td>Aceptada</td>\n",
       "      <td>False</td>\n",
       "      <td>0.000000</td>\n",
       "      <td>7.670054</td>\n",
       "      <td>False</td>\n",
       "      <td>2020</td>\n",
       "      <td>3</td>\n",
       "      <td>WEB</td>\n",
       "    </tr>\n",
       "    <tr>\n",
       "      <th>4</th>\n",
       "      <td>1</td>\n",
       "      <td>F</td>\n",
       "      <td>254.171053</td>\n",
       "      <td>2020-01-30</td>\n",
       "      <td>10</td>\n",
       "      <td>NaN</td>\n",
       "      <td>Guadalajara</td>\n",
       "      <td>Física</td>\n",
       "      <td>94000</td>\n",
       "      <td>56</td>\n",
       "      <td>Aceptada</td>\n",
       "      <td>False</td>\n",
       "      <td>0.000000</td>\n",
       "      <td>2.541711</td>\n",
       "      <td>False</td>\n",
       "      <td>2020</td>\n",
       "      <td>3</td>\n",
       "      <td>%%</td>\n",
       "    </tr>\n",
       "    <tr>\n",
       "      <th>...</th>\n",
       "      <td>...</td>\n",
       "      <td>...</td>\n",
       "      <td>...</td>\n",
       "      <td>...</td>\n",
       "      <td>...</td>\n",
       "      <td>...</td>\n",
       "      <td>...</td>\n",
       "      <td>...</td>\n",
       "      <td>...</td>\n",
       "      <td>...</td>\n",
       "      <td>...</td>\n",
       "      <td>...</td>\n",
       "      <td>...</td>\n",
       "      <td>...</td>\n",
       "      <td>...</td>\n",
       "      <td>...</td>\n",
       "      <td>...</td>\n",
       "      <td>...</td>\n",
       "    </tr>\n",
       "    <tr>\n",
       "      <th>26970</th>\n",
       "      <td>3999</td>\n",
       "      <td>M</td>\n",
       "      <td>746.192089</td>\n",
       "      <td>2020-01-08</td>\n",
       "      <td>13</td>\n",
       "      <td>NaN</td>\n",
       "      <td>Toluca</td>\n",
       "      <td>Física</td>\n",
       "      <td>40000</td>\n",
       "      <td>56</td>\n",
       "      <td>Aceptada</td>\n",
       "      <td>False</td>\n",
       "      <td>0.000000</td>\n",
       "      <td>7.461921</td>\n",
       "      <td>False</td>\n",
       "      <td>2020</td>\n",
       "      <td>2</td>\n",
       "      <td>ANDROID</td>\n",
       "    </tr>\n",
       "    <tr>\n",
       "      <th>26971</th>\n",
       "      <td>3999</td>\n",
       "      <td>M</td>\n",
       "      <td>941.804966</td>\n",
       "      <td>2020-01-14</td>\n",
       "      <td>15</td>\n",
       "      <td>NaN</td>\n",
       "      <td>Toluca</td>\n",
       "      <td>Física</td>\n",
       "      <td>40000</td>\n",
       "      <td>56</td>\n",
       "      <td>Aceptada</td>\n",
       "      <td>False</td>\n",
       "      <td>0.000000</td>\n",
       "      <td>9.418050</td>\n",
       "      <td>False</td>\n",
       "      <td>2020</td>\n",
       "      <td>2</td>\n",
       "      <td>WEB</td>\n",
       "    </tr>\n",
       "    <tr>\n",
       "      <th>26972</th>\n",
       "      <td>3999</td>\n",
       "      <td>M</td>\n",
       "      <td>251.189885</td>\n",
       "      <td>2020-01-16</td>\n",
       "      <td>11</td>\n",
       "      <td>NaN</td>\n",
       "      <td>Toluca</td>\n",
       "      <td>Virtual</td>\n",
       "      <td>40000</td>\n",
       "      <td>56</td>\n",
       "      <td>Aceptada</td>\n",
       "      <td>False</td>\n",
       "      <td>0.000000</td>\n",
       "      <td>5.023798</td>\n",
       "      <td>False</td>\n",
       "      <td>2020</td>\n",
       "      <td>2</td>\n",
       "      <td>WEB</td>\n",
       "    </tr>\n",
       "    <tr>\n",
       "      <th>26973</th>\n",
       "      <td>3999</td>\n",
       "      <td>M</td>\n",
       "      <td>24.182665</td>\n",
       "      <td>2020-01-13</td>\n",
       "      <td>17</td>\n",
       "      <td>NaN</td>\n",
       "      <td>Toluca</td>\n",
       "      <td>Física</td>\n",
       "      <td>40000</td>\n",
       "      <td>56</td>\n",
       "      <td>Aceptada</td>\n",
       "      <td>False</td>\n",
       "      <td>2.418266</td>\n",
       "      <td>0.217644</td>\n",
       "      <td>False</td>\n",
       "      <td>2020</td>\n",
       "      <td>5</td>\n",
       "      <td>.</td>\n",
       "    </tr>\n",
       "    <tr>\n",
       "      <th>26974</th>\n",
       "      <td>3999</td>\n",
       "      <td>M</td>\n",
       "      <td>517.209272</td>\n",
       "      <td>2020-01-03</td>\n",
       "      <td>20</td>\n",
       "      <td>MPago</td>\n",
       "      <td>Toluca</td>\n",
       "      <td>Física</td>\n",
       "      <td>40000</td>\n",
       "      <td>56</td>\n",
       "      <td>En proceso</td>\n",
       "      <td>False</td>\n",
       "      <td>0.000000</td>\n",
       "      <td>5.172093</td>\n",
       "      <td>False</td>\n",
       "      <td>2020</td>\n",
       "      <td>5</td>\n",
       "      <td>ANDROID</td>\n",
       "    </tr>\n",
       "  </tbody>\n",
       "</table>\n",
       "<p>26975 rows × 18 columns</p>\n",
       "</div>"
      ],
      "text/plain": [
       "       ID_USER genero       monto       fecha  hora establecimiento  \\\n",
       "0            0      F  608.345634  2020-01-21    20           Super   \n",
       "1            0      F   88.719243  2020-01-15     7             NaN   \n",
       "2            1      F  790.037653  2020-01-17    11             NaN   \n",
       "3            1      F  767.005387  2020-01-05    11           MPago   \n",
       "4            1      F  254.171053  2020-01-30    10             NaN   \n",
       "...        ...    ...         ...         ...   ...             ...   \n",
       "26970     3999      M  746.192089  2020-01-08    13             NaN   \n",
       "26971     3999      M  941.804966  2020-01-14    15             NaN   \n",
       "26972     3999      M  251.189885  2020-01-16    11             NaN   \n",
       "26973     3999      M   24.182665  2020-01-13    17             NaN   \n",
       "26974     3999      M  517.209272  2020-01-03    20           MPago   \n",
       "\n",
       "            ciudad  tipo_tc  linea_tc  interes_tc  status_txn  is_prime  \\\n",
       "0           Merida   Física     71000          51    Aceptada     False   \n",
       "1           Merida  Virtual     71000          51    Aceptada     False   \n",
       "2      Guadalajara  Virtual     94000          56  En proceso     False   \n",
       "3      Guadalajara   Física     94000          56    Aceptada     False   \n",
       "4      Guadalajara   Física     94000          56    Aceptada     False   \n",
       "...            ...      ...       ...         ...         ...       ...   \n",
       "26970       Toluca   Física     40000          56    Aceptada     False   \n",
       "26971       Toluca   Física     40000          56    Aceptada     False   \n",
       "26972       Toluca  Virtual     40000          56    Aceptada     False   \n",
       "26973       Toluca   Física     40000          56    Aceptada     False   \n",
       "26974       Toluca   Física     40000          56  En proceso     False   \n",
       "\n",
       "            dcto   cashback  fraude  model  device_score       os  \n",
       "0      60.834563   5.475111   False   2020             3  ANDROID  \n",
       "1       0.000000   1.774385   False   2020             1  ANDROID  \n",
       "2       0.000000  15.800753   False   2020             1        .  \n",
       "3       0.000000   7.670054   False   2020             3      WEB  \n",
       "4       0.000000   2.541711   False   2020             3       %%  \n",
       "...          ...        ...     ...    ...           ...      ...  \n",
       "26970   0.000000   7.461921   False   2020             2  ANDROID  \n",
       "26971   0.000000   9.418050   False   2020             2      WEB  \n",
       "26972   0.000000   5.023798   False   2020             2      WEB  \n",
       "26973   2.418266   0.217644   False   2020             5        .  \n",
       "26974   0.000000   5.172093   False   2020             5  ANDROID  \n",
       "\n",
       "[26975 rows x 18 columns]"
      ]
     },
     "execution_count": 8,
     "metadata": {},
     "output_type": "execute_result"
    }
   ],
   "source": [
    "df = pd.read_csv('ds_challenge_2021.csv')\n",
    "df['dispositivo']=df['dispositivo'].apply(lambda x:eval(x))\n",
    "df = pd.concat([df, pd.json_normalize(df[\"dispositivo\"])], axis=1)\n",
    "df.drop(['dispositivo'], axis=1, inplace = True)\n",
    "df"
   ]
  },
  {
   "cell_type": "code",
   "execution_count": 9,
   "id": "bc933046",
   "metadata": {
    "scrolled": true
   },
   "outputs": [
    {
     "data": {
      "text/plain": [
       "ID_USER              int64\n",
       "genero              object\n",
       "monto              float64\n",
       "fecha               object\n",
       "hora                 int64\n",
       "establecimiento     object\n",
       "ciudad              object\n",
       "tipo_tc             object\n",
       "linea_tc             int64\n",
       "interes_tc           int64\n",
       "status_txn          object\n",
       "is_prime              bool\n",
       "dcto               float64\n",
       "cashback           float64\n",
       "fraude                bool\n",
       "model                int64\n",
       "device_score         int64\n",
       "os                  object\n",
       "dtype: object"
      ]
     },
     "execution_count": 9,
     "metadata": {},
     "output_type": "execute_result"
    }
   ],
   "source": [
    "df.dtypes"
   ]
  },
  {
   "cell_type": "markdown",
   "id": "1cc292e9",
   "metadata": {},
   "source": [
    "Como el objetivo de esta prueba es poder detectar las transacciones fraudulentas, es importante entender cual va a ser la variable y a clasificar, para ello miramos cuanto esto es su proporción sobre el total;"
   ]
  },
  {
   "cell_type": "code",
   "execution_count": 11,
   "id": "91a58993",
   "metadata": {},
   "outputs": [
    {
     "name": "stdout",
     "output_type": "stream",
     "text": [
      "Porcentaje de transacciones fraudulentas del total: 3.003%\n"
     ]
    }
   ],
   "source": [
    "df_fraude = pd.DataFrame(df[df['fraude']==True],columns = df.columns) #Dataframe de trasancciones que son fraudulentas\n",
    "df_noFraude = pd.DataFrame(df[df['fraude']==False],columns = df.columns) #Dataframe de trasancciones que no son fraudulentas\n",
    "prop = len(df_fraude)/(len(df_noFraude)+len(df_fraude))*100 #Es un buen indicador para saber si los datos están balanceados\n",
    "print(\"Porcentaje de transacciones fraudulentas del total: %.3f\" % prop + \"%\")\n"
   ]
  },
  {
   "cell_type": "code",
   "execution_count": 12,
   "id": "c4812f25",
   "metadata": {},
   "outputs": [
    {
     "data": {
      "text/html": [
       "<div>\n",
       "<style scoped>\n",
       "    .dataframe tbody tr th:only-of-type {\n",
       "        vertical-align: middle;\n",
       "    }\n",
       "\n",
       "    .dataframe tbody tr th {\n",
       "        vertical-align: top;\n",
       "    }\n",
       "\n",
       "    .dataframe thead th {\n",
       "        text-align: right;\n",
       "    }\n",
       "</style>\n",
       "<table border=\"1\" class=\"dataframe\">\n",
       "  <thead>\n",
       "    <tr style=\"text-align: right;\">\n",
       "      <th></th>\n",
       "      <th>monto</th>\n",
       "      <th>hora</th>\n",
       "      <th>linea_tc</th>\n",
       "      <th>interes_tc</th>\n",
       "      <th>dcto</th>\n",
       "      <th>cashback</th>\n",
       "      <th>model</th>\n",
       "      <th>device_score</th>\n",
       "    </tr>\n",
       "  </thead>\n",
       "  <tbody>\n",
       "    <tr>\n",
       "      <th>count</th>\n",
       "      <td>26975.000000</td>\n",
       "      <td>26975.000000</td>\n",
       "      <td>26975.000000</td>\n",
       "      <td>26975.000000</td>\n",
       "      <td>26975.000000</td>\n",
       "      <td>26975.000000</td>\n",
       "      <td>26975.0</td>\n",
       "      <td>26975.000000</td>\n",
       "    </tr>\n",
       "    <tr>\n",
       "      <th>mean</th>\n",
       "      <td>499.069493</td>\n",
       "      <td>11.987618</td>\n",
       "      <td>62476.811863</td>\n",
       "      <td>48.224875</td>\n",
       "      <td>17.466134</td>\n",
       "      <td>6.261186</td>\n",
       "      <td>2020.0</td>\n",
       "      <td>3.002595</td>\n",
       "    </tr>\n",
       "    <tr>\n",
       "      <th>std</th>\n",
       "      <td>289.309518</td>\n",
       "      <td>6.642565</td>\n",
       "      <td>21886.892902</td>\n",
       "      <td>9.587256</td>\n",
       "      <td>34.334566</td>\n",
       "      <td>4.458440</td>\n",
       "      <td>0.0</td>\n",
       "      <td>1.417432</td>\n",
       "    </tr>\n",
       "    <tr>\n",
       "      <th>min</th>\n",
       "      <td>0.017303</td>\n",
       "      <td>1.000000</td>\n",
       "      <td>25000.000000</td>\n",
       "      <td>32.000000</td>\n",
       "      <td>0.000000</td>\n",
       "      <td>0.000138</td>\n",
       "      <td>2020.0</td>\n",
       "      <td>1.000000</td>\n",
       "    </tr>\n",
       "    <tr>\n",
       "      <th>25%</th>\n",
       "      <td>246.521227</td>\n",
       "      <td>6.000000</td>\n",
       "      <td>44000.000000</td>\n",
       "      <td>40.000000</td>\n",
       "      <td>0.000000</td>\n",
       "      <td>2.791740</td>\n",
       "      <td>2020.0</td>\n",
       "      <td>2.000000</td>\n",
       "    </tr>\n",
       "    <tr>\n",
       "      <th>50%</th>\n",
       "      <td>500.501022</td>\n",
       "      <td>12.000000</td>\n",
       "      <td>62000.000000</td>\n",
       "      <td>48.000000</td>\n",
       "      <td>0.000000</td>\n",
       "      <td>5.636711</td>\n",
       "      <td>2020.0</td>\n",
       "      <td>3.000000</td>\n",
       "    </tr>\n",
       "    <tr>\n",
       "      <th>75%</th>\n",
       "      <td>749.598192</td>\n",
       "      <td>18.000000</td>\n",
       "      <td>82000.000000</td>\n",
       "      <td>57.000000</td>\n",
       "      <td>18.770710</td>\n",
       "      <td>8.531604</td>\n",
       "      <td>2020.0</td>\n",
       "      <td>4.000000</td>\n",
       "    </tr>\n",
       "    <tr>\n",
       "      <th>max</th>\n",
       "      <td>999.917764</td>\n",
       "      <td>23.000000</td>\n",
       "      <td>99000.000000</td>\n",
       "      <td>64.000000</td>\n",
       "      <td>199.356251</td>\n",
       "      <td>19.991582</td>\n",
       "      <td>2020.0</td>\n",
       "      <td>5.000000</td>\n",
       "    </tr>\n",
       "  </tbody>\n",
       "</table>\n",
       "</div>"
      ],
      "text/plain": [
       "              monto          hora      linea_tc    interes_tc          dcto  \\\n",
       "count  26975.000000  26975.000000  26975.000000  26975.000000  26975.000000   \n",
       "mean     499.069493     11.987618  62476.811863     48.224875     17.466134   \n",
       "std      289.309518      6.642565  21886.892902      9.587256     34.334566   \n",
       "min        0.017303      1.000000  25000.000000     32.000000      0.000000   \n",
       "25%      246.521227      6.000000  44000.000000     40.000000      0.000000   \n",
       "50%      500.501022     12.000000  62000.000000     48.000000      0.000000   \n",
       "75%      749.598192     18.000000  82000.000000     57.000000     18.770710   \n",
       "max      999.917764     23.000000  99000.000000     64.000000    199.356251   \n",
       "\n",
       "           cashback    model  device_score  \n",
       "count  26975.000000  26975.0  26975.000000  \n",
       "mean       6.261186   2020.0      3.002595  \n",
       "std        4.458440      0.0      1.417432  \n",
       "min        0.000138   2020.0      1.000000  \n",
       "25%        2.791740   2020.0      2.000000  \n",
       "50%        5.636711   2020.0      3.000000  \n",
       "75%        8.531604   2020.0      4.000000  \n",
       "max       19.991582   2020.0      5.000000  "
      ]
     },
     "execution_count": 12,
     "metadata": {},
     "output_type": "execute_result"
    }
   ],
   "source": [
    "df[df.columns[1:]].describe()"
   ]
  },
  {
   "cell_type": "code",
   "execution_count": 13,
   "id": "13d83ea8",
   "metadata": {},
   "outputs": [
    {
     "data": {
      "text/plain": [
       "<AxesSubplot:>"
      ]
     },
     "execution_count": 13,
     "metadata": {},
     "output_type": "execute_result"
    },
    {
     "data": {
      "image/png": "[encoded data removed]",
      "text/plain": [
       "<Figure size 504x360 with 2 Axes>"
      ]
     },
     "metadata": {},
     "output_type": "display_data"
    }
   ],
   "source": [
    "# Compute the correlation matrix\n",
    "corr = df.corr()\n",
    "\n",
    "# Generate a mask for the upper triangle\n",
    "mask = np.triu(np.ones_like(corr, dtype=bool))\n",
    "\n",
    "# Set up the matplotlib figure\n",
    "f, ax = plt.subplots(figsize=(7, 5))\n",
    "\n",
    "# Generate a custom diverging colormap\n",
    "cmap = sns.diverging_palette(230, 20, as_cmap=True)\n",
    "\n",
    "# Draw the heatmap with the mask and correct aspect ratio\n",
    "sns.heatmap(corr, mask=mask, cmap=cmap, vmax=.3, center=0,\n",
    "            square=True, linewidths=.5, cbar_kws={\"shrink\": .5})"
   ]
  },
  {
   "cell_type": "code",
   "execution_count": 14,
   "id": "c46525df",
   "metadata": {
    "scrolled": false
   },
   "outputs": [
    {
     "data": {
      "text/plain": [
       "<AxesSubplot:xlabel='hora', ylabel='Density'>"
      ]
     },
     "execution_count": 14,
     "metadata": {},
     "output_type": "execute_result"
    },
    {
     "data": {
      "image/png": "[encoded data removed]",
      "text/plain": [
       "<Figure size 864x792 with 6 Axes>"
      ]
     },
     "metadata": {},
     "output_type": "display_data"
    }
   ],
   "source": [
    "f, axes = plt.subplots(nrows=3, ncols=2,figsize=(12,11))\n",
    "\n",
    "sns.histplot(data=df, x=\"monto\", hue=\"fraude\", stat=\"density\", common_norm=False, ax = axes[0][0])\n",
    "sns.histplot(data=df, x=\"cashback\", hue=\"fraude\", stat=\"density\", common_norm=False, ax = axes[0][1])\n",
    "sns.histplot(data=df, x=\"dcto\", hue=\"fraude\", stat=\"density\", common_norm=False, ax = axes[1][0])\n",
    "sns.histplot(data=df, x=\"linea_tc\", hue=\"fraude\", stat=\"density\", common_norm=False, ax = axes[1][1])\n",
    "sns.histplot(data=df, x=\"interes_tc\", hue=\"fraude\", stat=\"density\", common_norm=False, ax = axes[2][0])\n",
    "sns.histplot(data=df, x=\"hora\", hue=\"fraude\", stat=\"density\", common_norm=False, ax = axes[2][1])"
   ]
  },
  {
   "cell_type": "code",
   "execution_count": 15,
   "id": "758abe62",
   "metadata": {
    "scrolled": false
   },
   "outputs": [
    {
     "data": {
      "text/plain": [
       "<AxesSubplot:xlabel='device_score', ylabel='proportion'>"
      ]
     },
     "execution_count": 15,
     "metadata": {},
     "output_type": "execute_result"
    },
    {
     "data": {
      "image/png": "[encoded data removed]",
      "text/plain": [
       "<Figure size 864x792 with 6 Axes>"
      ]
     },
     "metadata": {},
     "output_type": "display_data"
    }
   ],
   "source": [
    "f, axes = plt.subplots(nrows=3, ncols=2,figsize=(12,11))\n",
    "\n",
    "(df[\"genero\"].groupby(df[\"fraude\"]).value_counts(normalize=True).rename(\"proportion\")\n",
    " .reset_index().pipe((sns.barplot, \"data\"), x=\"genero\", y=\"proportion\", hue=\"fraude\",ax = axes[0,0]))\n",
    "(df[\"establecimiento\"].groupby(df[\"fraude\"]).value_counts(normalize=True).rename(\"proportion\")\n",
    " .reset_index().pipe((sns.barplot, \"data\"), x=\"establecimiento\", y=\"proportion\", hue=\"fraude\",ax = axes[0,1]))\n",
    "(df[\"ciudad\"].groupby(df[\"fraude\"]).value_counts(normalize=True).rename(\"proportion\")\n",
    " .reset_index().pipe((sns.barplot, \"data\"), x=\"ciudad\", y=\"proportion\", hue=\"fraude\",ax = axes[1,0]))\n",
    "(df[\"status_txn\"].groupby(df[\"fraude\"]).value_counts(normalize=True).rename(\"proportion\")\n",
    " .reset_index().pipe((sns.barplot, \"data\"), x=\"status_txn\", y=\"proportion\", hue=\"fraude\",ax = axes[1,1]))\n",
    "(df[\"is_prime\"].groupby(df[\"fraude\"]).value_counts(normalize=True).rename(\"proportion\")\n",
    " .reset_index().pipe((sns.barplot, \"data\"), x=\"is_prime\", y=\"proportion\", hue=\"fraude\",ax = axes[2,0]))\n",
    "(df[\"device_score\"].groupby(df[\"fraude\"]).value_counts(normalize=True).rename(\"proportion\")\n",
    " .reset_index().pipe((sns.barplot, \"data\"), x=\"device_score\", y=\"proportion\", hue=\"fraude\",ax = axes[2,1]))"
   ]
  },
  {
   "cell_type": "code",
   "execution_count": 16,
   "id": "5af86a24",
   "metadata": {},
   "outputs": [
    {
     "data": {
      "text/plain": [
       "<AxesSubplot:xlabel='os', ylabel='proportion'>"
      ]
     },
     "execution_count": 16,
     "metadata": {},
     "output_type": "execute_result"
    },
    {
     "data": {
      "image/png": "[encoded data removed]",
      "text/plain": [
       "<Figure size 432x288 with 1 Axes>"
      ]
     },
     "metadata": {},
     "output_type": "display_data"
    }
   ],
   "source": [
    "x, y, hue = \"os\", \"proportion\", \"fraude\"\n",
    "hue_order = df['fraude'].unique()\n",
    "\n",
    "(df[x]\n",
    " .groupby(df[hue])\n",
    " .value_counts(normalize=True)\n",
    " .rename(y)\n",
    " .reset_index()\n",
    " .pipe((sns.barplot, \"data\"), x=x, y=y, hue=hue))"
   ]
  },
  {
   "cell_type": "markdown",
   "id": "9715aae3",
   "metadata": {},
   "source": [
    "## Análisis a nivel de transacción\n",
    "Como se observó anteriormente, el dataset presenta cada dato a nivel de transacción, en donde hay usuarios con más de una trasancción, debido a esto es importante entender como se comporta las transacciones de nivel de sus variables y posteriormente hacer el mismo análisis a nivel de usuario. Para ello se procede a entender como se comportan las variables"
   ]
  },
  {
   "cell_type": "code",
   "execution_count": 17,
   "id": "48865527",
   "metadata": {
    "scrolled": true
   },
   "outputs": [
    {
     "name": "stdout",
     "output_type": "stream",
     "text": [
      "Monto\n",
      "Promedio de monto en trasacciones fraudulentas: 496.196\n",
      "Promedio de monto en trasacciones no fraudulentas: 493.438\n",
      "Cashback\n",
      "Promedio de cashback en trasacciones fraudulentas: 6.154\n",
      "Promedio de cashback en trasacciones no fraudulentas: 6.222\n",
      "Línea TC\n",
      "Promedio de linea_tc en trasacciones fraudulentas: 61448.889\n",
      "Promedio de linea_tc en trasacciones no fraudulentas: 62339.106\n",
      "Interés TC\n",
      "Promedio de interes_tc en trasacciones fraudulentas: 48.156\n",
      "Promedio de interes_tc en trasacciones no fraudulentas: 48.158\n"
     ]
    }
   ],
   "source": [
    "#Variables numericas\n",
    "df_fraude_grouped = df_fraude.groupby(['ID_USER']).agg({'monto':'mean','cashback':'mean',\n",
    "                                                       'linea_tc':'mean','interes_tc':'mean',\n",
    "                                                       'dcto':'mean'})\n",
    "df_noFraude_grouped = df_noFraude.groupby(['ID_USER']).agg({'monto':'mean','cashback':'mean',\n",
    "                                                           'linea_tc':'mean','interes_tc':'mean',\n",
    "                                                            'dcto':'mean'})\n",
    "\n",
    "\n",
    "mean_amount_fraud = np.mean(df_fraude_grouped['monto'])\n",
    "mean_amount_nofraud =np.mean(df_noFraude_grouped['monto'])\n",
    "print(\"Monto\")\n",
    "print(\"Promedio de monto en trasacciones fraudulentas: %.3f\" % mean_amount_nofraud)\n",
    "print(\"Promedio de monto en trasacciones no fraudulentas: %.3f\" % mean_amount_fraud)\n",
    "\n",
    "print(\"Cashback\")\n",
    "mean_cashback_fraud = np.mean(df_fraude_grouped['cashback'])\n",
    "mean_cashback_nofraud =np.mean(df_noFraude_grouped['cashback'])\n",
    "print(\"Promedio de cashback en trasacciones fraudulentas: %.3f\" % mean_cashback_fraud)\n",
    "print(\"Promedio de cashback en trasacciones no fraudulentas: %.3f\" % mean_cashback_nofraud)\n",
    "\n",
    "print(\"Línea TC\")\n",
    "mean_lineaTC_fraud = np.mean(df_fraude_grouped['linea_tc'])\n",
    "mean_lineaTC_nofraud =np.mean(df_noFraude_grouped['linea_tc'])\n",
    "print(\"Promedio de linea_tc en trasacciones fraudulentas: %.3f\" % mean_lineaTC_fraud)\n",
    "print(\"Promedio de linea_tc en trasacciones no fraudulentas: %.3f\" % mean_lineaTC_nofraud)\n",
    "\n",
    "print(\"Interés TC\")\n",
    "mean_interes_tc_fraud = np.mean(df_fraude_grouped['interes_tc'])\n",
    "mean_interes_tc_nofraud =np.mean(df_noFraude_grouped['interes_tc'])\n",
    "print(\"Promedio de interes_tc en trasacciones fraudulentas: %.3f\" % mean_interes_tc_fraud)\n",
    "print(\"Promedio de interes_tc en trasacciones no fraudulentas: %.3f\" % mean_interes_tc_nofraud)"
   ]
  },
  {
   "cell_type": "markdown",
   "id": "1625fa6a",
   "metadata": {},
   "source": [
    "## Analisis a nivel de usuario\n",
    "Ahora se procede a revisar esta información a nivel de usuario, ya que es importante entender sí existe alguna característica evidente de las personas que tienen alguna transacción fraudulenta. Dentro del dataset, existen bastantes usuarios que tienen muchas transacción correctas y algunas fraudulentas, dado esto se define como usuario fraudulente aquel tenga al menos una transacción fraudulenta."
   ]
  },
  {
   "cell_type": "code",
   "execution_count": 18,
   "id": "0e385ebe",
   "metadata": {},
   "outputs": [
    {
     "name": "stdout",
     "output_type": "stream",
     "text": [
      "Transacciones\n",
      "Promedio de transacciones personas que no hacen fraude: 5.769\n",
      "Promedio de transacciones personas que sí hacen fraude: 11.544\n",
      "Monto\n",
      "Promedio de gasto promedio personas que no hacen fraude: 495.662\n",
      "Promedio de gasto promedio personas que sí hacen fraude: 497.543\n",
      "Cashback\n",
      "Promedio de cashback personas que no hacen fraude: 6.231\n",
      "Promedio de cashback promedio personas que sí hacen fraude: 6.203\n"
     ]
    }
   ],
   "source": [
    "ids_fraude = df[df['fraude']==True][['ID_USER']].drop_duplicates()\n",
    "ids_fraude['user_fraude'] = 1\n",
    "ids_fraude.set_index('ID_USER',inplace=True)\n",
    "df_p = df.set_index('ID_USER').join(ids_fraude)\n",
    "\n",
    "df_fraude_grouped = df_p[df_p['user_fraude']==1].groupby(['ID_USER']).agg({'fecha':'count','monto':'mean','cashback':'mean',\n",
    "                                                       'linea_tc':'mean','interes_tc':'mean',\n",
    "                                                       'dcto':'mean'})\n",
    "df_noFraude_grouped = df_p[df_p['user_fraude']!=1].groupby(['ID_USER']).agg({'fecha':'count','monto':'mean','cashback':'mean',\n",
    "                                                       'linea_tc':'mean','interes_tc':'mean',\n",
    "                                                       'dcto':'mean'})\n",
    "print(\"Transacciones\")\n",
    "mean_trans_fraud = np.mean(df_fraude_grouped['fecha'])\n",
    "mean_trans_nofraud =np.mean(df_noFraude_grouped['fecha'])\n",
    "print(\"Promedio de transacciones personas que no hacen fraude: %.3f\" % mean_trans_nofraud)\n",
    "print(\"Promedio de transacciones personas que sí hacen fraude: %.3f\" % mean_trans_fraud)\n",
    "\n",
    "print(\"Monto\")\n",
    "mean_amount_fraud = np.mean(df_fraude_grouped['monto'])\n",
    "mean_amount_nofraud =np.mean(df_noFraude_grouped['monto'])\n",
    "print(\"Promedio de gasto promedio personas que no hacen fraude: %.3f\" % mean_amount_nofraud)\n",
    "print(\"Promedio de gasto promedio personas que sí hacen fraude: %.3f\" % mean_amount_fraud)\n",
    "\n",
    "print(\"Cashback\")\n",
    "mean_cashback_fraud = np.mean(df_fraude_grouped['cashback'])\n",
    "mean_cashback_nofraud =np.mean(df_noFraude_grouped['cashback'])\n",
    "print(\"Promedio de cashback personas que no hacen fraude: %.3f\" % mean_cashback_fraud)\n",
    "print(\"Promedio de cashback promedio personas que sí hacen fraude: %.3f\" % mean_cashback_nofraud)\n"
   ]
  },
  {
   "cell_type": "markdown",
   "id": "8ebda488",
   "metadata": {},
   "source": [
    "Como se observa en los resultados anteriores, una diferencia notable entre estos dos grupos es que la cantidad de trasacciones promedio es mayor para las personas que cometen fraude, tenemos como ejemplo el siguiente caso:"
   ]
  },
  {
   "cell_type": "code",
   "execution_count": 19,
   "id": "7e321421",
   "metadata": {},
   "outputs": [
    {
     "data": {
      "text/html": [
       "<div>\n",
       "<style scoped>\n",
       "    .dataframe tbody tr th:only-of-type {\n",
       "        vertical-align: middle;\n",
       "    }\n",
       "\n",
       "    .dataframe tbody tr th {\n",
       "        vertical-align: top;\n",
       "    }\n",
       "\n",
       "    .dataframe thead th {\n",
       "        text-align: right;\n",
       "    }\n",
       "</style>\n",
       "<table border=\"1\" class=\"dataframe\">\n",
       "  <thead>\n",
       "    <tr style=\"text-align: right;\">\n",
       "      <th></th>\n",
       "      <th>ID_USER</th>\n",
       "      <th>fecha</th>\n",
       "      <th>fraude</th>\n",
       "      <th>monto</th>\n",
       "    </tr>\n",
       "  </thead>\n",
       "  <tbody>\n",
       "    <tr>\n",
       "      <th>36</th>\n",
       "      <td>9</td>\n",
       "      <td>2020-01-04</td>\n",
       "      <td>False</td>\n",
       "      <td>305.178078</td>\n",
       "    </tr>\n",
       "    <tr>\n",
       "      <th>41</th>\n",
       "      <td>9</td>\n",
       "      <td>2020-01-07</td>\n",
       "      <td>False</td>\n",
       "      <td>449.202371</td>\n",
       "    </tr>\n",
       "    <tr>\n",
       "      <th>43</th>\n",
       "      <td>9</td>\n",
       "      <td>2020-01-07</td>\n",
       "      <td>False</td>\n",
       "      <td>9.490080</td>\n",
       "    </tr>\n",
       "    <tr>\n",
       "      <th>37</th>\n",
       "      <td>9</td>\n",
       "      <td>2020-01-14</td>\n",
       "      <td>True</td>\n",
       "      <td>253.327147</td>\n",
       "    </tr>\n",
       "    <tr>\n",
       "      <th>38</th>\n",
       "      <td>9</td>\n",
       "      <td>2020-01-16</td>\n",
       "      <td>False</td>\n",
       "      <td>18.471148</td>\n",
       "    </tr>\n",
       "    <tr>\n",
       "      <th>39</th>\n",
       "      <td>9</td>\n",
       "      <td>2020-01-17</td>\n",
       "      <td>False</td>\n",
       "      <td>637.948552</td>\n",
       "    </tr>\n",
       "    <tr>\n",
       "      <th>42</th>\n",
       "      <td>9</td>\n",
       "      <td>2020-01-18</td>\n",
       "      <td>False</td>\n",
       "      <td>586.507627</td>\n",
       "    </tr>\n",
       "    <tr>\n",
       "      <th>35</th>\n",
       "      <td>9</td>\n",
       "      <td>2020-01-21</td>\n",
       "      <td>False</td>\n",
       "      <td>687.625262</td>\n",
       "    </tr>\n",
       "    <tr>\n",
       "      <th>44</th>\n",
       "      <td>9</td>\n",
       "      <td>2020-01-26</td>\n",
       "      <td>False</td>\n",
       "      <td>581.564202</td>\n",
       "    </tr>\n",
       "    <tr>\n",
       "      <th>40</th>\n",
       "      <td>9</td>\n",
       "      <td>2020-01-27</td>\n",
       "      <td>False</td>\n",
       "      <td>812.327552</td>\n",
       "    </tr>\n",
       "  </tbody>\n",
       "</table>\n",
       "</div>"
      ],
      "text/plain": [
       "    ID_USER       fecha  fraude       monto\n",
       "36        9  2020-01-04   False  305.178078\n",
       "41        9  2020-01-07   False  449.202371\n",
       "43        9  2020-01-07   False    9.490080\n",
       "37        9  2020-01-14    True  253.327147\n",
       "38        9  2020-01-16   False   18.471148\n",
       "39        9  2020-01-17   False  637.948552\n",
       "42        9  2020-01-18   False  586.507627\n",
       "35        9  2020-01-21   False  687.625262\n",
       "44        9  2020-01-26   False  581.564202\n",
       "40        9  2020-01-27   False  812.327552"
      ]
     },
     "execution_count": 19,
     "metadata": {},
     "output_type": "execute_result"
    }
   ],
   "source": [
    "df[df['ID_USER']==9][['ID_USER','fecha','fraude','monto']].sort_values(['fecha'])"
   ]
  },
  {
   "cell_type": "markdown",
   "id": "e7864835",
   "metadata": {},
   "source": [
    "Este usuario, posee 10 trasacciones en donde 1 de ella fue categorizada como fraudulenta, lo curioso es que el usuario sigue generando muchas más transacciones despues."
   ]
  },
  {
   "cell_type": "code",
   "execution_count": 20,
   "id": "50ea8c5c",
   "metadata": {},
   "outputs": [],
   "source": [
    "df['visita'] = 1\n",
    "df['visita_acumulada'] = df.sort_values(['ID_USER','fecha','hora']).groupby(['ID_USER'])['visita'].cumsum()\n",
    "##df['visitas_totales'] = df.sort_values(['ID_USER','fecha','hora']).groupby(['ID_USER'])['visita'].sum()\n",
    "df.drop(['visita'], axis=1, inplace=True)"
   ]
  },
  {
   "cell_type": "code",
   "execution_count": 21,
   "id": "e18fe7be",
   "metadata": {},
   "outputs": [
    {
     "name": "stdout",
     "output_type": "stream",
     "text": [
      "Monto fraude: 398600.730\n"
     ]
    }
   ],
   "source": [
    "monto_fraude = np.sum(df[df['fraude']== True]['monto'])\n",
    "print(\"Monto fraude: %.3f\" % monto_fraude)"
   ]
  },
  {
   "cell_type": "markdown",
   "id": "cbd2e2f4",
   "metadata": {},
   "source": [
    "<a id = 'Model'></a>\n",
    "# <font color = \"darkblue\">Modelo</font>"
   ]
  },
  {
   "cell_type": "markdown",
   "id": "d7f30b9b",
   "metadata": {},
   "source": [
    "Dado lo observado en la sección anterior, este apartado tiene como objetivo probar diferentes modelos para la detección de fraude. Para ello se utilizará como modelo base los árboles de decisión que han demostrado ser buenos para modelos desbalanceados y para detección de fraude.[1]\n",
    "\n",
    "Para encontrar el mejor modelo se prueba diferentes métodos, se toman los resultados y se analiza que modelo fue el que tuvo el mejor rendimiendo. Los métodos utilizados fueron los siguientes:\n",
    "* Árbol de decisión\n",
    "* Árbol de decisión con sobre muestreo\n",
    "* Árbol de decisión SMOTE\n",
    "* Árbol de decisión con costos asociados de clasificación\n",
    "\n",
    "Adicionalmente, por cada modelo se generan subsets de entrenamiento y test, utilizando la proporción 0.75 y 0.25 respectivamente. Por otro lado, se utilizan como métricas de medición matriz de confución, F-score y sensibilidad."
   ]
  },
  {
   "cell_type": "markdown",
   "id": "412d0777",
   "metadata": {},
   "source": [
    "<a id = 'model1'></a>\n",
    "## <font color = \"darkblue\">1er aproach (Árbol de decisión)</font>\n",
    "\n",
    "\n",
    "Para este primer modelo se quiso probar que resultados se obtienen con la data original, para ello se separan las variables numericas de las categoricas y se obtienen los resultados del modelo. Posteriormente, se utilizan árboles de decisión para detectar que variables son las más representativas para la clasificación, luego se retiran y se vuelve a probar el modelo"
   ]
  },
  {
   "cell_type": "code",
   "execution_count": 35,
   "id": "1e2623c3",
   "metadata": {
    "scrolled": true
   },
   "outputs": [],
   "source": [
    "df_clasificar = pd.DataFrame(df, columns=df.columns)\n",
    "col_names = df.columns\n",
    "feature_cols = [ 'genero', 'monto', 'fecha', 'hora',\n",
    "       'establecimiento', 'ciudad', 'tipo_tc', 'linea_tc', 'interes_tc',\n",
    "       'status_txn', 'is_prime', 'dcto', 'cashback','device_score', 'os']\n",
    "\n",
    "X = df_clasificar[feature_cols]\n",
    "y = df_clasificar['fraude']\n",
    "X_train, X_test, y_train, y_test = train_test_split(X,\n",
    "                                                    y,\n",
    "                                                    test_size=0.25)\n",
    "\n"
   ]
  },
  {
   "cell_type": "code",
   "execution_count": 36,
   "id": "cf2445fc",
   "metadata": {},
   "outputs": [],
   "source": [
    "# Parte númerica\n",
    "numeric_features = ['monto', 'hora', 'linea_tc','interes_tc','dcto','cashback']\n",
    "numeric_transformer = Pipeline(steps=[\n",
    "    ('imputer', SimpleImputer(strategy='mean')), #Retira los nulos y los reemplza por la mediana\n",
    "])\n",
    "\n",
    "# Parte categórica\n",
    "categorical_features = ['genero', 'fecha', 'establecimiento', 'ciudad','tipo_tc','status_txn','is_prime', 'os','device_score']\n",
    "categorical_transformer = Pipeline(steps=[\n",
    "    ('imputer', SimpleImputer(strategy='constant', fill_value='faltante')),#Retira los nulos y los reemplza por la categoría 'faltante'\n",
    "    ('ordinal', OrdinalEncoder()) #Encoding de las variables categoricas\n",
    "])\n",
    "\n",
    "# Se crea un objeto preprocessor\n",
    "preprocessor = ColumnTransformer(\n",
    "    transformers=[\n",
    "        ('num', numeric_transformer, numeric_features),\n",
    "        ('cat', categorical_transformer, categorical_features)])\n"
   ]
  },
  {
   "cell_type": "code",
   "execution_count": 37,
   "id": "90cf0cd9",
   "metadata": {},
   "outputs": [
    {
     "name": "stdout",
     "output_type": "stream",
     "text": [
      "Decision Tree\n",
      "confusion matrix\n",
      "[[   8  271]\n",
      " [ 212 6253]]\n",
      "sensitivity is %f 0.03636363636363636\n",
      "specificity is %f 0.9584610668301655\n",
      "accuracy is %f 0.9283807829181495\n",
      "balanced accuracy is % 0.49741235159690095\n",
      "F-score is % 0.03206412825651302\n",
      "Accuracy: 0.93 (+/- 0.00)\n"
     ]
    }
   ],
   "source": [
    "# Árbol de decisón\n",
    "clf = Pipeline(steps=[('preprocessor', preprocessor),\n",
    "                        ('classifier', tree.DecisionTreeClassifier())\n",
    "                        ])\n",
    "clf = clf.fit(X_train, y_train)\n",
    "y_pred_tree = clf.predict(X_test)\n",
    "print('Decision Tree')\n",
    "F_score_11, acc_11 = display_summary(y_test,y_pred_tree)\n",
    "\n",
    "\n",
    "scores_11 = cross_val_score(clf, df[feature_cols], df['fraude'], cv=5)\n",
    "print(\"Accuracy: %0.2f (+/- %0.2f)\" % (scores_11.mean(), scores_11.std() * 2))\n"
   ]
  },
  {
   "cell_type": "markdown",
   "id": "6f755e5f",
   "metadata": {},
   "source": [
    "#### Selección de Variables"
   ]
  },
  {
   "cell_type": "code",
   "execution_count": 38,
   "id": "adf7e213",
   "metadata": {},
   "outputs": [
    {
     "name": "stdout",
     "output_type": "stream",
     "text": [
      "columnas a eliminar: ['dcto', 'device_score', 'fecha', 'establecimiento', 'ciudad', 'tipo_tc', 'status_txn', 'is_prime', 'os']\n",
      "columnas que se mantienen: ['monto', 'hora', 'linea_tc', 'interes_tc', 'cashback', 'genero']\n"
     ]
    }
   ],
   "source": [
    "df_prep = pd.DataFrame(preprocessor.fit_transform(X_train[feature_cols]), \n",
    "                       columns=['monto', 'hora', 'linea_tc','interes_tc','dcto',\n",
    "                                'cashback','device_score','genero', 'fecha', \n",
    "                                'establecimiento', 'ciudad','tipo_tc','status_txn',\n",
    "                                'is_prime', 'os'])\n",
    "#Se crea un modelo de arbol que se utilizará para hallar las variables\n",
    "reg = ExtraTreesClassifier(n_estimators=50) \n",
    "reg.fit(df_prep, y_train) #Entrenamiento\n",
    "\n",
    "imp = reg.feature_importances_ #Se guardan las importancias de cada variable al modelo\n",
    "mean = np.mean(imp)\n",
    "bool_array = imp >= mean #Vector booleano para saber que importancias están por encima de la media\n",
    "indices = [] #Vector de indicación de variables importantes\n",
    "indices2 = [] #Vector de indicación de variables no importantes\n",
    "H = 0 \n",
    "H2 = 0\n",
    "\n",
    "# Ciclo que busca las variables más representativas y almacena sus indices \n",
    "for q in range(len(bool_array)):\n",
    "    if ~bool_array[q]:\n",
    "        indices.append(H)\n",
    "    H = H+1 \n",
    "# Ciclo que busca las variables menos representativas y almacena sus indices \n",
    "for w in range(len(bool_array)):\n",
    "    if bool_array[w]:\n",
    "        indices2.append(H2)\n",
    "    H2 = H2+1\n",
    "\n",
    "columnas_eliminar = [] # Vector que almacena el nombre de las variables menos representativas\n",
    "columnas_restantes = [] # Vector que almacena el nombre de las variables más representativas\n",
    "for ind in indices:\n",
    "    columnas_eliminar.append(df_prep.columns[ind])\n",
    "for ind in indices2:\n",
    "    columnas_restantes.append(df_prep.columns[ind])\n",
    "    \n",
    "print('columnas a eliminar:', columnas_eliminar)\n",
    "print('columnas que se mantienen:',columnas_restantes)"
   ]
  },
  {
   "cell_type": "code",
   "execution_count": 41,
   "id": "7cf9f602",
   "metadata": {},
   "outputs": [],
   "source": [
    "col_names = df.columns\n",
    "feature_cols = [ 'monto', 'hora',   'linea_tc', 'interes_tc',\n",
    "                'cashback','fecha']\n",
    "\n",
    "X = df_clasificar[feature_cols]\n",
    "y = df_clasificar['fraude']\n",
    "X_train, X_test, y_train, y_test = train_test_split(X,\n",
    "                                                    y,\n",
    "                                                    test_size=0.25)"
   ]
  },
  {
   "cell_type": "code",
   "execution_count": 42,
   "id": "c83b3223",
   "metadata": {},
   "outputs": [
    {
     "name": "stdout",
     "output_type": "stream",
     "text": [
      "confusion matrix\n",
      "[[   6  266]\n",
      " [ 181 6291]]\n",
      "sensitivity is %f 0.03208556149732621\n",
      "specificity is %f 0.9594326673783743\n",
      "accuracy is %f 0.9337188612099644\n",
      "balanced accuracy is % 0.49575911443785026\n",
      "F-score is % 0.026143790849673203\n",
      "Accuracy: 0.93 (+/- 0.01)\n"
     ]
    }
   ],
   "source": [
    "# Parte númerica\n",
    "numeric_features = ['monto', 'hora', 'linea_tc','interes_tc','cashback']\n",
    "numeric_transformer = Pipeline(steps=[\n",
    "    ('imputer', SimpleImputer(strategy='mean')), #Retira los nulos y los reemplza por la mediana\n",
    "])\n",
    "\n",
    "# Parte categórica\n",
    "categorical_features = [ 'fecha']\n",
    "categorical_transformer = Pipeline(steps=[\n",
    "    ('imputer', SimpleImputer(strategy='constant', fill_value='faltante')),#Retira los nulos y los reemplza por la categoría 'faltante'\n",
    "    ('ordinal', OrdinalEncoder()) #Encoding de las variables categoricas\n",
    "])\n",
    "\n",
    "# Se crea un objeto preprocessor\n",
    "preprocessor = ColumnTransformer(\n",
    "    transformers=[\n",
    "        ('num', numeric_transformer, numeric_features),\n",
    "        ('cat', categorical_transformer, categorical_features)])\n",
    "\n",
    "# Árbol de decisón\n",
    "clf = Pipeline(steps=[('preprocessor', preprocessor),\n",
    "                        ('classifier', tree.DecisionTreeClassifier())\n",
    "                        ])\n",
    "clf = clf.fit(X_train, y_train)\n",
    "y_pred_tree = clf.predict(X_test)\n",
    "F_score_12, acc_12 = display_summary(y_test,y_pred_tree)\n",
    "\n",
    "\n",
    "scores_12 = cross_val_score(clf, df[feature_cols], df['fraude'], cv=5)\n",
    "print(\"Accuracy: %0.2f (+/- %0.2f)\" % (scores_12.mean(), scores_12.std() * 2))\n",
    "\n"
   ]
  },
  {
   "cell_type": "markdown",
   "id": "9719e212",
   "metadata": {},
   "source": [
    "<a id = 'model2'></a>\n",
    "# <font color = \"darkblue\">2do aproach (Sobre muestreo + Sub muestreo)</font>\n",
    "\n",
    "\n",
    "Para el segundo modelo se quiso arreglar el desbalance que existe en las categorías a clasificar, para ello se utilizó la librería de SciKit Learn Sample, y se sobre muestro la clase minoritaria con reemplazo y se sub muestro la clase mayoritaria sin reemplazo.  "
   ]
  },
  {
   "cell_type": "code",
   "execution_count": 44,
   "id": "de6d2342",
   "metadata": {
    "scrolled": true
   },
   "outputs": [
    {
     "name": "stdout",
     "output_type": "stream",
     "text": [
      "Tamaño dataset sampleado Counter({False: 5000, True: 3000})\n"
     ]
    }
   ],
   "source": [
    "df_clasificar = pd.DataFrame(resample(df[df['fraude']==True], n_samples=3000, replace = True),columns = df.columns)\n",
    "\n",
    "#Sobremuestreo; se van sobremuestrear 20.000 datos para balancear la información\n",
    "df_clasificar = df_clasificar.append(pd.DataFrame(resample(df[df['fraude']==False], n_samples=5000, replace = True)))\n",
    "print('Tamaño dataset sampleado %s' % Counter(df_clasificar['fraude']))"
   ]
  },
  {
   "cell_type": "code",
   "execution_count": 45,
   "id": "51db391e",
   "metadata": {},
   "outputs": [],
   "source": [
    "col_names = df.columns\n",
    "feature_cols = [ 'genero', 'monto', 'fecha', 'hora',\n",
    "       'establecimiento', 'ciudad', 'tipo_tc', 'linea_tc', 'interes_tc',\n",
    "       'status_txn', 'is_prime', 'dcto', 'cashback','device_score', 'os']\n",
    "\n",
    "X = df_clasificar[feature_cols]\n",
    "y = df_clasificar['fraude']\n",
    "X_train, X_test, y_train, y_test = train_test_split(X,\n",
    "                                                    y,\n",
    "                                                    test_size=0.25)"
   ]
  },
  {
   "cell_type": "code",
   "execution_count": 46,
   "id": "573d50bf",
   "metadata": {},
   "outputs": [
    {
     "name": "stdout",
     "output_type": "stream",
     "text": [
      "Decision Tree\n",
      "confusion matrix\n",
      "[[ 718  183]\n",
      " [  46 1053]]\n",
      "sensitivity is %f 0.9397905759162304\n",
      "specificity is %f 0.8519417475728155\n",
      "accuracy is %f 0.8855\n",
      "balanced accuracy is % 0.8958661617445229\n",
      "F-score is % 0.8624624624624625\n",
      "Accuracy: 0.93 (+/- 0.00)\n"
     ]
    }
   ],
   "source": [
    "# Parte númerica\n",
    "numeric_features = ['monto', 'hora', 'linea_tc','interes_tc','dcto','cashback']\n",
    "numeric_transformer = Pipeline(steps=[\n",
    "    ('imputer', SimpleImputer(strategy='mean')), #Retira los nulos y los reemplza por la mediana\n",
    "])\n",
    "\n",
    "# Parte categórica\n",
    "categorical_features = ['genero', 'fecha', 'establecimiento', 'ciudad','tipo_tc','status_txn','is_prime', 'os','device_score']\n",
    "categorical_transformer = Pipeline(steps=[\n",
    "    ('imputer', SimpleImputer(strategy='constant', fill_value='faltante')),#Retira los nulos y los reemplza por la categoría 'faltante'\n",
    "    ('ordinal', OrdinalEncoder()) #Encoding de las variables categoricas\n",
    "])\n",
    "\n",
    "# Se crea un objeto preprocessor\n",
    "preprocessor = ColumnTransformer(\n",
    "    transformers=[\n",
    "        ('num', numeric_transformer, numeric_features),\n",
    "        ('cat', categorical_transformer, categorical_features)])\n",
    "\n",
    "# Árbol de decisón\n",
    "clf = Pipeline(steps=[('preprocessor', preprocessor),\n",
    "                        ('classifier', tree.DecisionTreeClassifier())\n",
    "                        ])\n",
    "clf = clf.fit(X_train, y_train)\n",
    "y_pred_tree = clf.predict(X_test)\n",
    "print('Decision Tree')\n",
    "F_score_21, acc_21 = display_summary(y_test,y_pred_tree)\n",
    "\n",
    "\n",
    "scores_21 = cross_val_score(clf, df[feature_cols], df['fraude'], cv=5)\n",
    "print(\"Accuracy: %0.2f (+/- %0.2f)\" % (scores_21.mean(), scores_21.std() * 2))\n"
   ]
  },
  {
   "cell_type": "markdown",
   "id": "bb87ed34",
   "metadata": {},
   "source": [
    "#### Selección de Variables"
   ]
  },
  {
   "cell_type": "code",
   "execution_count": 47,
   "id": "e30e417b",
   "metadata": {},
   "outputs": [
    {
     "name": "stdout",
     "output_type": "stream",
     "text": [
      "columnas a eliminar: ['dcto', 'device_score', 'establecimiento', 'ciudad', 'tipo_tc', 'status_txn', 'is_prime']\n",
      "columnas que se mantienen: ['monto', 'hora', 'linea_tc', 'interes_tc', 'cashback', 'genero', 'fecha', 'os']\n"
     ]
    }
   ],
   "source": [
    "df_prep = pd.DataFrame(preprocessor.fit_transform(X_train[feature_cols]), \n",
    "                       columns=['monto', 'hora', 'linea_tc','interes_tc',\n",
    "                                'dcto','cashback','device_score','genero', \n",
    "                                'fecha', 'establecimiento', 'ciudad','tipo_tc',\n",
    "                                'status_txn','is_prime', 'os'])\n",
    "#Se crea un modelo de arbol que se utilizará para hallar las variables\n",
    "reg = ExtraTreesClassifier(n_estimators=50) \n",
    "reg.fit(df_prep, y_train) #Entrenamiento\n",
    "\n",
    "imp = reg.feature_importances_ #Se guardan las importancias de cada variable al modelo\n",
    "mean = np.mean(imp)\n",
    "bool_array = imp >= mean #Vector booleano para saber que importancias están por encima de la media\n",
    "indices = [] #Vector de indicación de variables importantes\n",
    "indices2 = [] #Vector de indicación de variables no importantes\n",
    "H = 0 \n",
    "H2 = 0\n",
    "\n",
    "# Ciclo que busca las variables más representativas y almacena sus indices \n",
    "for q in range(len(bool_array)):\n",
    "    if ~bool_array[q]:\n",
    "        indices.append(H)\n",
    "    H = H+1 \n",
    "# Ciclo que busca las variables menos representativas y almacena sus indices \n",
    "for w in range(len(bool_array)):\n",
    "    if bool_array[w]:\n",
    "        indices2.append(H2)\n",
    "    H2 = H2+1\n",
    "\n",
    "columnas_eliminar = [] # Vector que almacena el nombre de las variables menos representativas\n",
    "columnas_restantes = [] # Vector que almacena el nombre de las variables más representativas\n",
    "for ind in indices:\n",
    "    columnas_eliminar.append(df_prep.columns[ind])\n",
    "for ind in indices2:\n",
    "    columnas_restantes.append(df_prep.columns[ind])\n",
    "    \n",
    "    \n",
    "print('columnas a eliminar:', columnas_eliminar)\n",
    "print('columnas que se mantienen:',columnas_restantes)"
   ]
  },
  {
   "cell_type": "code",
   "execution_count": 49,
   "id": "cc7cbb47",
   "metadata": {},
   "outputs": [],
   "source": [
    "col_names = df.columns\n",
    "feature_cols = ['monto', 'fecha', 'hora', 'linea_tc', 'interes_tc',\n",
    "                'cashback','genero',  'os']\n",
    "\n",
    "X = df_clasificar[feature_cols]\n",
    "y = df_clasificar['fraude']\n",
    "X_train, X_test, y_train, y_test = train_test_split(X,\n",
    "                                                    y,\n",
    "                                                    test_size=0.25)"
   ]
  },
  {
   "cell_type": "code",
   "execution_count": 52,
   "id": "30461d8a",
   "metadata": {},
   "outputs": [
    {
     "name": "stdout",
     "output_type": "stream",
     "text": [
      "Decision Tree\n",
      "confusion matrix\n",
      "[[ 718  210]\n",
      " [  41 1031]]\n",
      "sensitivity is %f 0.9459815546772069\n",
      "specificity is %f 0.830781627719581\n",
      "accuracy is %f 0.8745\n",
      "balanced accuracy is % 0.8883815911983939\n",
      "F-score is % 0.8512151748666271\n",
      "Accuracy: 0.93 (+/- 0.01)\n"
     ]
    }
   ],
   "source": [
    "# Parte númerica\n",
    "numeric_features = ['monto', 'hora', 'linea_tc','interes_tc','cashback']\n",
    "numeric_transformer = Pipeline(steps=[\n",
    "    ('imputer', SimpleImputer(strategy='mean')), #Retira los nulos y los reemplza por la mediana\n",
    "])\n",
    "\n",
    "# Parte categórica\n",
    "categorical_features = [ 'fecha', 'genero','os']\n",
    "categorical_transformer = Pipeline(steps=[\n",
    "    ('imputer', SimpleImputer(strategy='constant', fill_value='faltante')),#Retira los nulos y los reemplza por la categoría 'faltante'\n",
    "    ('ordinal', OrdinalEncoder()) #Encoding de las variables categoricas\n",
    "])\n",
    "\n",
    "# Se crea un objeto preprocessor\n",
    "preprocessor = ColumnTransformer(\n",
    "    transformers=[\n",
    "        ('num', numeric_transformer, numeric_features),\n",
    "        ('cat', categorical_transformer, categorical_features)])\n",
    "\n",
    "# Árbol de decisón\n",
    "clf = Pipeline(steps=[('preprocessor', preprocessor),\n",
    "                        ('classifier', tree.DecisionTreeClassifier())\n",
    "                        ])\n",
    "clf = clf.fit(X_train, y_train)\n",
    "y_pred_tree = clf.predict(X_test)\n",
    "print('Decision Tree')\n",
    "F_score_22, acc_22 = display_summary(y_test,y_pred_tree)\n",
    "\n",
    "\n",
    "scores_22 = cross_val_score(clf, df[feature_cols], df['fraude'], cv=5)\n",
    "print(\"Accuracy: %0.2f (+/- %0.2f)\" % (scores_22.mean(), scores_22.std() * 2))\n",
    "\n"
   ]
  },
  {
   "cell_type": "markdown",
   "id": "4b3a3046",
   "metadata": {},
   "source": [
    "\n",
    "<a id = 'model3'></a>\n",
    "# <font color = \"darkblue\"> 3er aproach (SMOTE)</font>\n",
    "\n",
    "Para este ejercicio, se quiso probar una forma distinta de muestreo de la clase minoritaria, la técnica SMOTE es muy útil cuando la clase minoritaria es considerablemente menor [2]"
   ]
  },
  {
   "cell_type": "code",
   "execution_count": 53,
   "id": "99b034fa",
   "metadata": {},
   "outputs": [
    {
     "name": "stdout",
     "output_type": "stream",
     "text": [
      "Resampled dataset shape Counter({False: 26165, True: 26165})\n"
     ]
    }
   ],
   "source": [
    "# Parte númerica\n",
    "numeric_features = ['monto', 'hora', 'linea_tc','interes_tc','dcto','cashback']\n",
    "numeric_transformer = Pipeline(steps=[\n",
    "    ('imputer', SimpleImputer(strategy='mean')), #Retira los nulos y los reemplza por la mediana\n",
    "])\n",
    "\n",
    "# Parte categórica\n",
    "categorical_features = ['genero', 'fecha', 'establecimiento', 'ciudad','tipo_tc','status_txn','is_prime',\n",
    "                        'model', 'os','device_score']\n",
    "categorical_transformer = Pipeline(steps=[\n",
    "    ('imputer', SimpleImputer(strategy='constant', fill_value='faltante')),#Retira los nulos y los reemplza por la categoría 'faltante'\n",
    "    ('ordinal', OrdinalEncoder()) #Encoding de las variables categoricas\n",
    "])\n",
    "\n",
    "# Se crea un objeto preprocessor\n",
    "preprocessor = ColumnTransformer(\n",
    "    transformers=[\n",
    "        ('num', numeric_transformer, numeric_features),\n",
    "        ('cat', categorical_transformer, categorical_features)])\n",
    "\n",
    "\n",
    "feature_cols = [ 'genero', 'monto', 'fecha', 'hora',\n",
    "       'establecimiento', 'ciudad', 'tipo_tc', 'linea_tc', 'interes_tc',\n",
    "       'status_txn', 'is_prime', 'dcto', 'cashback', 'model','device_score', 'os']\n",
    "df_clasificar = pd.DataFrame(df, columns=df.columns)\n",
    "df_prep = pd.DataFrame(preprocessor.fit_transform(df_clasificar[feature_cols]), \n",
    "                       columns=['monto', 'hora', 'linea_tc','interes_tc',\n",
    "                                        'dcto','cashback','device_score','genero', \n",
    "                                        'fecha','establecimiento', 'ciudad','tipo_tc',\n",
    "                                        'status_txn','is_prime','model', 'os'])\n",
    "\n",
    "X = df_prep[feature_cols]\n",
    "y = df['fraude']\n",
    "\n",
    "# Apply the SMOTE over−sampling \n",
    "sm = SMOTE(sampling_strategy='auto' )\n",
    "X_resampled, y_resampled = sm.fit_resample(X, y)\n",
    "print('Resampled dataset shape %s' % Counter(y_resampled))"
   ]
  },
  {
   "cell_type": "code",
   "execution_count": 54,
   "id": "3c3fdbfe",
   "metadata": {
    "scrolled": false
   },
   "outputs": [
    {
     "name": "stdout",
     "output_type": "stream",
     "text": [
      "Decision Tree\n",
      "confusion matrix\n",
      "[[6209  288]\n",
      " [ 243 6343]]\n",
      "sensitivity is %f 0.9623372597644141\n",
      "specificity is %f 0.9565676368571859\n",
      "accuracy is %f 0.959412978674616\n",
      "balanced accuracy is % 0.9594524483108\n",
      "F-score is % 0.9589929724303033\n"
     ]
    }
   ],
   "source": [
    "X = X_resampled\n",
    "y = y_resampled\n",
    "X_train, X_test, y_train, y_test = train_test_split(X,\n",
    "                                                    y,\n",
    "                                                    test_size=0.25)\n",
    "\n",
    "# Árbol de decisón\n",
    "clf = Pipeline(steps=[\n",
    "                        ('classifier', tree.DecisionTreeClassifier())\n",
    "                        ])\n",
    "clf = clf.fit(X_train, y_train)\n",
    "y_pred_tree = clf.predict(X_test)\n",
    "print('Decision Tree')\n",
    "F_score_31, acc_31 = display_summary(y_test,y_pred_tree)\n"
   ]
  },
  {
   "cell_type": "markdown",
   "id": "6a30c43e",
   "metadata": {},
   "source": [
    "#### Selección de Variables"
   ]
  },
  {
   "cell_type": "code",
   "execution_count": 55,
   "id": "20fbd79b",
   "metadata": {},
   "outputs": [
    {
     "name": "stdout",
     "output_type": "stream",
     "text": [
      "columnas a eliminar: ['monto', 'hora', 'interes_tc', 'genero', 'fecha', 'establecimiento', 'ciudad', 'tipo_tc', 'status_txn']\n",
      "columnas que se mantienen: ['linea_tc', 'dcto', 'cashback', 'device_score', 'is_prime', 'model', 'os']\n"
     ]
    }
   ],
   "source": [
    "\n",
    "#Se crea un modelo de arbol que se utilizará para hallar las variables\n",
    "reg = ExtraTreesClassifier(n_estimators=50) \n",
    "reg.fit(X_resampled, y_resampled) #Entrenamiento\n",
    "\n",
    "imp = reg.feature_importances_ #Se guardan las importancias de cada variable al modelo\n",
    "mean = np.mean(imp)\n",
    "bool_array = imp >= mean #Vector booleano para saber que importancias están por encima de la media\n",
    "indices = [] #Vector de indicación de variables importantes\n",
    "indices2 = [] #Vector de indicación de variables no importantes\n",
    "H = 0 \n",
    "H2 = 0\n",
    "\n",
    "# Ciclo que busca las variables más representativas y almacena sus indices \n",
    "for q in range(len(bool_array)):\n",
    "    if ~bool_array[q]:\n",
    "        indices.append(H)\n",
    "    H = H+1 \n",
    "# Ciclo que busca las variables menos representativas y almacena sus indices \n",
    "for w in range(len(bool_array)):\n",
    "    if bool_array[w]:\n",
    "        indices2.append(H2)\n",
    "    H2 = H2+1\n",
    "\n",
    "columnas_eliminar = [] # Vector que almacena el nombre de las variables menos representativas\n",
    "columnas_restantes = [] # Vector que almacena el nombre de las variables más representativas\n",
    "for ind in indices:\n",
    "    columnas_eliminar.append(df_prep.columns[ind])\n",
    "for ind in indices2:\n",
    "    columnas_restantes.append(df_prep.columns[ind])\n",
    "    \n",
    "        \n",
    "print('columnas a eliminar:', columnas_eliminar)\n",
    "print('columnas que se mantienen:',columnas_restantes)"
   ]
  },
  {
   "cell_type": "code",
   "execution_count": 56,
   "id": "d202f7bd",
   "metadata": {},
   "outputs": [
    {
     "name": "stdout",
     "output_type": "stream",
     "text": [
      "Decision Tree\n",
      "confusion matrix\n",
      "[[6236  250]\n",
      " [ 216 6381]]\n",
      "sensitivity is %f 0.9665220086794792\n",
      "specificity is %f 0.9622982958829739\n",
      "accuracy is %f 0.964381258121226\n",
      "balanced accuracy is % 0.9644101522812265\n",
      "F-score is % 0.9639820683258618\n"
     ]
    }
   ],
   "source": [
    "# Árbol de decisón\n",
    "clf = Pipeline(steps=[\n",
    "                        ('classifier', tree.DecisionTreeClassifier())\n",
    "                        ])\n",
    "clf = clf.fit(X_train[columnas_restantes], y_train)\n",
    "y_pred_tree = clf.predict(X_test[columnas_restantes])\n",
    "print('Decision Tree')\n",
    "F_score_32, acc_32 = display_summary(y_test,y_pred_tree)\n"
   ]
  },
  {
   "cell_type": "markdown",
   "id": "35c2e5c9",
   "metadata": {},
   "source": [
    "\n",
    "<a id = 'model3'></a>\n",
    "# <font color = \"darkblue\"> 4to Aproach (Modelo sensible al costo)</font>\n",
    "\n",
    "Con base al paper \"Fraud Detection by Stacking Cost-Sensitive Decision Trees\" se quiso tomar un enfoque distinto y llevar el problema a un enfoque más orientado a la realidad del problema. En este texto se describe como los modelos de fraude que tienen en cuentas los costos reales de clasificar mal o bien pueden afectar el resultado del modelo. "
   ]
  },
  {
   "cell_type": "code",
   "execution_count": 57,
   "id": "ea7dc89d",
   "metadata": {
    "scrolled": true
   },
   "outputs": [],
   "source": [
    "from metrics import cost_loss, savings_score\n",
    "from models import  CostSensitiveDecisionTreeClassifier #Librearias tomadas de "
   ]
  },
  {
   "cell_type": "code",
   "execution_count": 58,
   "id": "9f5febfd",
   "metadata": {},
   "outputs": [],
   "source": [
    "df_clasificar = df\n",
    "\n",
    "col_names = df.columns\n",
    "feature_cols = [ 'genero', 'monto', 'fecha', 'hora',\n",
    "       'establecimiento', 'ciudad', 'tipo_tc', 'linea_tc', 'interes_tc',\n",
    "       'status_txn', 'is_prime', 'dcto', 'cashback', 'model','device_score', 'os']\n",
    "\n",
    "X = df_clasificar[feature_cols]\n",
    "y = df_clasificar['fraude']\n",
    "\n",
    "X_train, X_test, y_train, y_test = train_test_split(X,\n",
    "                                                    y,\n",
    "                                                    test_size=0.25)"
   ]
  },
  {
   "cell_type": "code",
   "execution_count": 59,
   "id": "774f42a4",
   "metadata": {},
   "outputs": [],
   "source": [
    "cost_mat_train = np.zeros((len(y_train),4))\n",
    "#false positives cost 5\n",
    "cost_mat_train[:,0]=10\n",
    "#false negatives costthe transaction amount\n",
    "cost_mat_train[:,1]=X_train['monto']\n",
    "#true positives also cost 5\n",
    "cost_mat_train[:,2]=10\n",
    " \n",
    "cost_mat_test = np.zeros((len(y_test),4))\n",
    "cost_mat_test[:,0]=10\n",
    "cost_mat_test[:,1]=X_test['monto']\n",
    "cost_mat_test[:,2]=10"
   ]
  },
  {
   "cell_type": "code",
   "execution_count": 60,
   "id": "7ee950a8",
   "metadata": {
    "scrolled": true
   },
   "outputs": [
    {
     "name": "stdout",
     "output_type": "stream",
     "text": [
      "decision tree: cost sensitve learning\n",
      "60660.925577132846\n",
      "Decision Tree\n",
      "confusion matrix\n",
      "[[ 135 4211]\n",
      " [  73 2325]]\n",
      "sensitivity is %f 0.6490384615384616\n",
      "specificity is %f 0.3557221542227662\n",
      "accuracy is %f 0.36476868327402134\n",
      "balanced accuracy is % 0.5023803078806139\n",
      "F-score is % 0.05928853754940712\n"
     ]
    }
   ],
   "source": [
    "\n",
    "h = CostSensitiveDecisionTreeClassifier()\n",
    "h.fit(np.array(preprocessor.fit_transform(X_train[feature_cols])), np.array(y_train), cost_mat_train)\n",
    "y_pred_tree_cslr = h.predict(np.array(preprocessor.fit_transform(X_test[feature_cols])))\n",
    "\n",
    "print('decision tree: cost sensitve learning')\n",
    "print(cost_loss(y_test,y_pred_tree_cslr,cost_mat_test))\n",
    "\n",
    "print('Decision Tree')\n",
    "F_score_41, acc_41 = display_summary(y_test,y_pred_tree_cslr)"
   ]
  },
  {
   "cell_type": "markdown",
   "id": "64037982",
   "metadata": {},
   "source": [
    "# Resultados"
   ]
  },
  {
   "cell_type": "code",
   "execution_count": 61,
   "id": "bdceb09f",
   "metadata": {},
   "outputs": [
    {
     "data": {
      "text/html": [
       "<div>\n",
       "<style scoped>\n",
       "    .dataframe tbody tr th:only-of-type {\n",
       "        vertical-align: middle;\n",
       "    }\n",
       "\n",
       "    .dataframe tbody tr th {\n",
       "        vertical-align: top;\n",
       "    }\n",
       "\n",
       "    .dataframe thead th {\n",
       "        text-align: right;\n",
       "    }\n",
       "</style>\n",
       "<table border=\"1\" class=\"dataframe\">\n",
       "  <thead>\n",
       "    <tr style=\"text-align: right;\">\n",
       "      <th></th>\n",
       "      <th>Modelo</th>\n",
       "      <th>F-Score</th>\n",
       "      <th>Balanced Acc</th>\n",
       "    </tr>\n",
       "  </thead>\n",
       "  <tbody>\n",
       "    <tr>\n",
       "      <th>0</th>\n",
       "      <td>1.1 Árbol de decisión</td>\n",
       "      <td>0.03206412825651302</td>\n",
       "      <td>0.49741235159690095</td>\n",
       "    </tr>\n",
       "    <tr>\n",
       "      <th>1</th>\n",
       "      <td>1.2 Árbol de decisión (selección de variables)</td>\n",
       "      <td>0.026143790849673203</td>\n",
       "      <td>0.49575911443785026</td>\n",
       "    </tr>\n",
       "    <tr>\n",
       "      <th>2</th>\n",
       "      <td>2.1 Árbol de decisión muestreado</td>\n",
       "      <td>0.8624624624624625</td>\n",
       "      <td>0.8958661617445229</td>\n",
       "    </tr>\n",
       "    <tr>\n",
       "      <th>3</th>\n",
       "      <td>2.2 Árbol de decisión muestreado (selección de...</td>\n",
       "      <td>0.8512151748666271</td>\n",
       "      <td>0.8883815911983939</td>\n",
       "    </tr>\n",
       "    <tr>\n",
       "      <th>4</th>\n",
       "      <td>3.1 Árbol de decisión SMOTE</td>\n",
       "      <td>0.9589929724303033</td>\n",
       "      <td>0.9594524483108</td>\n",
       "    </tr>\n",
       "    <tr>\n",
       "      <th>5</th>\n",
       "      <td>3.2 Árbol de decisión SMOTE (selección de vari...</td>\n",
       "      <td>0.9639820683258618</td>\n",
       "      <td>0.9644101522812265</td>\n",
       "    </tr>\n",
       "    <tr>\n",
       "      <th>6</th>\n",
       "      <td>4.1 Árbol de decisión Costos</td>\n",
       "      <td>0.05928853754940712</td>\n",
       "      <td>0.5023803078806139</td>\n",
       "    </tr>\n",
       "  </tbody>\n",
       "</table>\n",
       "</div>"
      ],
      "text/plain": [
       "                                              Modelo               F-Score  \\\n",
       "0                              1.1 Árbol de decisión   0.03206412825651302   \n",
       "1     1.2 Árbol de decisión (selección de variables)  0.026143790849673203   \n",
       "2                   2.1 Árbol de decisión muestreado    0.8624624624624625   \n",
       "3  2.2 Árbol de decisión muestreado (selección de...    0.8512151748666271   \n",
       "4                        3.1 Árbol de decisión SMOTE    0.9589929724303033   \n",
       "5  3.2 Árbol de decisión SMOTE (selección de vari...    0.9639820683258618   \n",
       "6                       4.1 Árbol de decisión Costos   0.05928853754940712   \n",
       "\n",
       "          Balanced Acc  \n",
       "0  0.49741235159690095  \n",
       "1  0.49575911443785026  \n",
       "2   0.8958661617445229  \n",
       "3   0.8883815911983939  \n",
       "4      0.9594524483108  \n",
       "5   0.9644101522812265  \n",
       "6   0.5023803078806139  "
      ]
     },
     "execution_count": 61,
     "metadata": {},
     "output_type": "execute_result"
    }
   ],
   "source": [
    "df_resultados = pd.DataFrame(np.array([['1.1 Árbol de decisión', F_score_11, acc_11],\n",
    "                                      ['1.2 Árbol de decisión (selección de variables)', F_score_12, acc_12],\n",
    "                                      ['2.1 Árbol de decisión muestreado', F_score_21, acc_21],\n",
    "                                      ['2.2 Árbol de decisión muestreado (selección de variables)', F_score_22, acc_22],\n",
    "                                      ['3.1 Árbol de decisión SMOTE', F_score_31, acc_31],\n",
    "                                      ['3.2 Árbol de decisión SMOTE (selección de variables)', F_score_32, acc_32],\n",
    "                                      ['4.1 Árbol de decisión Costos', F_score_41, acc_41],\n",
    "                                      #['3.2 Árbol de decisión Costos (selección de variables)', F_score_42, acc_42]\n",
    "                                      ]), \n",
    "                            columns= ['Modelo', 'F-Score','Balanced Acc'])\n",
    "df_resultados"
   ]
  }
 ],
 "metadata": {
  "kernelspec": {
   "display_name": "Python 3",
   "language": "python",
   "name": "python3"
  },
  "language_info": {
   "codemirror_mode": {
    "name": "ipython",
    "version": 3
   },
   "file_extension": ".py",
   "mimetype": "text/x-python",
   "name": "python",
   "nbconvert_exporter": "python",
   "pygments_lexer": "ipython3",
   "version": "3.8.8"
  }
 },
 "nbformat": 4,
 "nbformat_minor": 5
}
